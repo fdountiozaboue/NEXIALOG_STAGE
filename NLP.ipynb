{
 "cells": [
  {
   "cell_type": "code",
   "execution_count": 45,
   "id": "3846bd53",
   "metadata": {},
   "outputs": [],
   "source": [
    "# Importation des packages et librairiie\n",
    "\n",
    "import os\n",
    "import pandas as pd\n",
    "import numpy as np\n",
    "import matplotlib.pyplot as plt\n",
    "\n",
    "# word embedding\n",
    "import string\n",
    "import nltk\n",
    "import gensim\n",
    "import re\n",
    "\n",
    "from nltk.corpus import stopwords\n",
    "from nltk.tokenize import word_tokenize\n",
    "from gensim.models import Phrases\n",
    "from gensim.models.phrases import Phraser\n",
    "import string\n",
    "\n",
    "# Téléchargement des ressources NLTK nécessaires (à faire une seule fois)\n",
    "#nltk.download('punkt')\n",
    "#nltk.download('stopwords')\n",
    "#nltk.download('all')\n"
   ]
  },
  {
   "cell_type": "code",
   "execution_count": 46,
   "id": "889110ef",
   "metadata": {},
   "outputs": [],
   "source": [
    "## Package pour entrainer notre percetron \n",
    "\n",
    "import pandas as pd\n",
    "import numpy as np\n",
    "from sklearn.model_selection import train_test_split\n",
    "from sklearn.metrics import classification_report, confusion_matrix, accuracy_score\n",
    "import matplotlib.pyplot as plt\n",
    "import seaborn as sns\n",
    "from sklearn.metrics import f1_score\n",
    "\n",
    "#pip install tensorflow\n",
    "\n",
    "from tensorflow.keras.models import Sequential\n",
    "from tensorflow.keras.layers import Dense\n",
    "from tensorflow.keras.optimizers import Adam"
   ]
  },
  {
   "cell_type": "markdown",
   "id": "84ae7e72",
   "metadata": {},
   "source": [
    "## Chargement de base PRC"
   ]
  },
  {
   "cell_type": "code",
   "execution_count": 86,
   "id": "69757efd",
   "metadata": {},
   "outputs": [],
   "source": [
    "df=pd.read_excel(\"Data_Breach_Chronology_sample.xlsx\")\n",
    "data=pd.read_csv(\"PRC Data Breach Chronology_Download_May_2022.csv\")"
   ]
  },
  {
   "cell_type": "code",
   "execution_count": 48,
   "id": "ac024f55",
   "metadata": {},
   "outputs": [
    {
     "data": {
      "text/plain": [
       "Index(['id', 'source', 'org_name', 'acceptable_names', 'org_name_explanation',\n",
       "       'reported_date', 'breach_date', 'end_breach_date', 'incident_details',\n",
       "       'date_info_explanation', 'information_affected',\n",
       "       'information_affected_explanation', 'organization_type',\n",
       "       'organization_type_explanation', 'breach_type',\n",
       "       'breach_type_explanation', 'group_uuid', 'normalized_org_name',\n",
       "       'normalized_org_name_explanation', 'group_org_breach_type',\n",
       "       'group_org_breach_type_explanation', 'group_org_type',\n",
       "       'group_org_type_explanation', 'total_affected', 'residents_affected',\n",
       "       'impact_info_explanation', 'breach_location_street',\n",
       "       'breach_location_city', 'breach_location_state', 'breach_location_zip',\n",
       "       'breach_location_country', 'breach_location_explanation', 'tags',\n",
       "       'source_url', 'notification_url_original', 'created_at', 'updated_at'],\n",
       "      dtype='object')"
      ]
     },
     "execution_count": 48,
     "metadata": {},
     "output_type": "execute_result"
    }
   ],
   "source": [
    "# Liste des variables\n",
    "df.columns"
   ]
  },
  {
   "cell_type": "markdown",
   "id": "249ca1e3",
   "metadata": {},
   "source": [
    "## Traitement de données "
   ]
  },
  {
   "cell_type": "code",
   "execution_count": 49,
   "id": "a74cc4f9",
   "metadata": {},
   "outputs": [],
   "source": [
    "df=pd.read_excel(\"Data_Breach_Chronology_sample.xlsx\")\n",
    "# Selection des variables d'intérêts\n",
    "variables = [\n",
    "    \"id\",\n",
    "    \"organization_type\",\n",
    "    \"incident_details\",\n",
    "    \"breach_type\",\n",
    "    \"reported_date\",\n",
    "    \"breach_date\",\n",
    "    \"end_breach_date\",\n",
    "    \"total_affected\",\n",
    "    \"residents_affected\",\n",
    "    \"breach_location_city\",\n",
    "    \"breach_location_state\",\n",
    "    \"breach_location_country\"\n",
    "]\n",
    "df=df[variables]\n",
    "df['total_affected'] = pd.to_numeric(df['total_affected'], errors='coerce')\n",
    "\n",
    "df3=df.copy()"
   ]
  },
  {
   "cell_type": "code",
   "execution_count": 50,
   "id": "e1d175f9",
   "metadata": {},
   "outputs": [
    {
     "name": "stdout",
     "output_type": "stream",
     "text": [
      "<class 'pandas.core.frame.DataFrame'>\n",
      "RangeIndex: 100 entries, 0 to 99\n",
      "Data columns (total 12 columns):\n",
      " #   Column                   Non-Null Count  Dtype  \n",
      "---  ------                   --------------  -----  \n",
      " 0   id                       100 non-null    object \n",
      " 1   organization_type        100 non-null    object \n",
      " 2   incident_details         100 non-null    object \n",
      " 3   breach_type              100 non-null    object \n",
      " 4   reported_date            100 non-null    object \n",
      " 5   breach_date              100 non-null    object \n",
      " 6   end_breach_date          100 non-null    object \n",
      " 7   total_affected           48 non-null     float64\n",
      " 8   residents_affected       100 non-null    object \n",
      " 9   breach_location_city     100 non-null    object \n",
      " 10  breach_location_state    100 non-null    object \n",
      " 11  breach_location_country  100 non-null    object \n",
      "dtypes: float64(1), object(11)\n",
      "memory usage: 9.5+ KB\n"
     ]
    }
   ],
   "source": [
    "# Type de variable \n",
    "df.info()"
   ]
  },
  {
   "cell_type": "code",
   "execution_count": 51,
   "id": "af41d933",
   "metadata": {},
   "outputs": [],
   "source": [
    "\n",
    "df_filtré = df[df['total_affected'] != 'UNKN']\n",
    "#df_filtré=df_filtré[df_filtré['breach_date'] != 'UNKN']\n",
    "df_filtré['breach_date'] = pd.to_datetime(df_filtré['breach_date'], errors='coerce')\n",
    "df_filtré['total_affected'] = pd.to_numeric(df_filtré['total_affected'], errors='coerce')"
   ]
  },
  {
   "cell_type": "code",
   "execution_count": 52,
   "id": "afbd1159",
   "metadata": {},
   "outputs": [
    {
     "name": "stdout",
     "output_type": "stream",
     "text": [
      "<class 'pandas.core.frame.DataFrame'>\n",
      "RangeIndex: 100 entries, 0 to 99\n",
      "Data columns (total 12 columns):\n",
      " #   Column                   Non-Null Count  Dtype         \n",
      "---  ------                   --------------  -----         \n",
      " 0   id                       100 non-null    object        \n",
      " 1   organization_type        100 non-null    object        \n",
      " 2   incident_details         100 non-null    object        \n",
      " 3   breach_type              100 non-null    object        \n",
      " 4   reported_date            100 non-null    object        \n",
      " 5   breach_date              43 non-null     datetime64[ns]\n",
      " 6   end_breach_date          100 non-null    object        \n",
      " 7   total_affected           48 non-null     float64       \n",
      " 8   residents_affected       100 non-null    object        \n",
      " 9   breach_location_city     100 non-null    object        \n",
      " 10  breach_location_state    100 non-null    object        \n",
      " 11  breach_location_country  100 non-null    object        \n",
      "dtypes: datetime64[ns](1), float64(1), object(10)\n",
      "memory usage: 9.5+ KB\n"
     ]
    }
   ],
   "source": [
    "df_filtré.info()"
   ]
  },
  {
   "cell_type": "code",
   "execution_count": 53,
   "id": "20325c31",
   "metadata": {},
   "outputs": [
    {
     "data": {
      "text/html": [
       "<div>\n",
       "<style scoped>\n",
       "    .dataframe tbody tr th:only-of-type {\n",
       "        vertical-align: middle;\n",
       "    }\n",
       "\n",
       "    .dataframe tbody tr th {\n",
       "        vertical-align: top;\n",
       "    }\n",
       "\n",
       "    .dataframe thead th {\n",
       "        text-align: right;\n",
       "    }\n",
       "</style>\n",
       "<table border=\"1\" class=\"dataframe\">\n",
       "  <thead>\n",
       "    <tr style=\"text-align: right;\">\n",
       "      <th></th>\n",
       "      <th>id</th>\n",
       "      <th>organization_type</th>\n",
       "      <th>incident_details</th>\n",
       "      <th>breach_type</th>\n",
       "      <th>reported_date</th>\n",
       "      <th>breach_date</th>\n",
       "      <th>end_breach_date</th>\n",
       "      <th>total_affected</th>\n",
       "      <th>residents_affected</th>\n",
       "      <th>breach_location_city</th>\n",
       "      <th>breach_location_state</th>\n",
       "      <th>breach_location_country</th>\n",
       "    </tr>\n",
       "  </thead>\n",
       "  <tbody>\n",
       "    <tr>\n",
       "      <th>0</th>\n",
       "      <td>9e38b3ea-ae63-5d83-aaed-73952834000f</td>\n",
       "      <td>EDU</td>\n",
       "      <td>The Indiana Office of the Attorney General rep...</td>\n",
       "      <td>UNKN</td>\n",
       "      <td>2020-10-30</td>\n",
       "      <td>2019-12-01</td>\n",
       "      <td>UNKN</td>\n",
       "      <td>1976.0</td>\n",
       "      <td>11</td>\n",
       "      <td>UNKN</td>\n",
       "      <td>UNKN</td>\n",
       "      <td>UNKN</td>\n",
       "    </tr>\n",
       "    <tr>\n",
       "      <th>1</th>\n",
       "      <td>3baa552d-66af-5371-b32e-05aa3c540031</td>\n",
       "      <td>BSF</td>\n",
       "      <td>On February 25, 2021, the Maryland Office of t...</td>\n",
       "      <td>HACK</td>\n",
       "      <td>2021-02-25</td>\n",
       "      <td>2020-12-21</td>\n",
       "      <td>2020-12-21</td>\n",
       "      <td>383.0</td>\n",
       "      <td>383</td>\n",
       "      <td>Towson</td>\n",
       "      <td>MD</td>\n",
       "      <td>United States</td>\n",
       "    </tr>\n",
       "    <tr>\n",
       "      <th>2</th>\n",
       "      <td>1252da3b-8848-5303-a5eb-bbd6232ee86f</td>\n",
       "      <td>BSR</td>\n",
       "      <td>The California Office of the Attorney General ...</td>\n",
       "      <td>HACK</td>\n",
       "      <td>2022-03-16</td>\n",
       "      <td>2021-08-29</td>\n",
       "      <td>2022-01-31</td>\n",
       "      <td>NaN</td>\n",
       "      <td>UNKN</td>\n",
       "      <td>Fenton</td>\n",
       "      <td>MO</td>\n",
       "      <td>United States</td>\n",
       "    </tr>\n",
       "    <tr>\n",
       "      <th>3</th>\n",
       "      <td>78d61170-9d43-52f8-b17e-1f3b53f5dced</td>\n",
       "      <td>MED</td>\n",
       "      <td>On October 9, 2018, the Minnesota Department o...</td>\n",
       "      <td>HACK</td>\n",
       "      <td>2018-10-09</td>\n",
       "      <td>NaT</td>\n",
       "      <td>UNKN</td>\n",
       "      <td>20800.0</td>\n",
       "      <td>UNKN</td>\n",
       "      <td>UNKN</td>\n",
       "      <td>MN</td>\n",
       "      <td>UNKN</td>\n",
       "    </tr>\n",
       "  </tbody>\n",
       "</table>\n",
       "</div>"
      ],
      "text/plain": [
       "                                     id organization_type  \\\n",
       "0  9e38b3ea-ae63-5d83-aaed-73952834000f               EDU   \n",
       "1  3baa552d-66af-5371-b32e-05aa3c540031               BSF   \n",
       "2  1252da3b-8848-5303-a5eb-bbd6232ee86f               BSR   \n",
       "3  78d61170-9d43-52f8-b17e-1f3b53f5dced               MED   \n",
       "\n",
       "                                    incident_details breach_type  \\\n",
       "0  The Indiana Office of the Attorney General rep...        UNKN   \n",
       "1  On February 25, 2021, the Maryland Office of t...        HACK   \n",
       "2  The California Office of the Attorney General ...        HACK   \n",
       "3  On October 9, 2018, the Minnesota Department o...        HACK   \n",
       "\n",
       "  reported_date breach_date end_breach_date  total_affected  \\\n",
       "0    2020-10-30  2019-12-01            UNKN          1976.0   \n",
       "1    2021-02-25  2020-12-21      2020-12-21           383.0   \n",
       "2    2022-03-16  2021-08-29      2022-01-31             NaN   \n",
       "3    2018-10-09         NaT            UNKN         20800.0   \n",
       "\n",
       "  residents_affected breach_location_city breach_location_state  \\\n",
       "0                 11                 UNKN                  UNKN   \n",
       "1                383               Towson                    MD   \n",
       "2               UNKN               Fenton                    MO   \n",
       "3               UNKN                 UNKN                    MN   \n",
       "\n",
       "  breach_location_country  \n",
       "0                    UNKN  \n",
       "1           United States  \n",
       "2           United States  \n",
       "3                    UNKN  "
      ]
     },
     "execution_count": 53,
     "metadata": {},
     "output_type": "execute_result"
    }
   ],
   "source": [
    "df_filtré.head(4)"
   ]
  },
  {
   "cell_type": "code",
   "execution_count": 54,
   "id": "e8c2c1d8",
   "metadata": {},
   "outputs": [
    {
     "data": {
      "text/plain": [
       "'On February 25, 2021, the Maryland Office of the Attorney General reported a data breach involving WMS Partners, LLC that occurred on December 21, 2020, due to phishing. The breach affected 383 Maryland residents, potentially compromising personal information such as names, physical addresses, account numbers, the last four digits of social security numbers, dates of birth, and driver’s license numbers.'"
      ]
     },
     "execution_count": 54,
     "metadata": {},
     "output_type": "execute_result"
    }
   ],
   "source": [
    "df_filtré['incident_details'][1]"
   ]
  },
  {
   "cell_type": "code",
   "execution_count": 55,
   "id": "919dfd0b",
   "metadata": {},
   "outputs": [
    {
     "data": {
      "image/png": "[encoded data removed]",
      "text/plain": [
       "<Figure size 1000x800 with 8 Axes>"
      ]
     },
     "metadata": {},
     "output_type": "display_data"
    }
   ],
   "source": [
    "# Conversion de la date\n",
    "df_filtré['breach_date'] = pd.to_datetime(df_filtré['breach_date'])\n",
    "\n",
    "# Liste des types d'organisation uniques\n",
    "unique_org_types = df_filtré['organization_type'].unique()\n",
    "\n",
    "# Définir la grille : 3 lignes, 3 colonnes\n",
    "nrows, ncols = 3, 3\n",
    "fig, axes = plt.subplots(nrows=nrows, ncols=ncols, figsize=(10, 8), sharex=False)\n",
    "\n",
    "# Aplatir les axes pour itérer facilement\n",
    "axes = axes.flatten()\n",
    "\n",
    "# Tracer chaque sous-graphe\n",
    "for i, org_type in enumerate(unique_org_types):\n",
    "    ax = axes[i]\n",
    "    subset = df_filtré[df_filtré['organization_type'] == org_type]\n",
    "    ax.scatter(subset['breach_date'], subset['total_affected'], alpha=0.5)\n",
    "    ax.set_yscale('log')\n",
    "    ax.set_title(org_type)\n",
    "    ax.set_xlabel('Date de la violation')\n",
    "    ax.set_ylabel('Nombre total de personnes affectées')\n",
    "    ax.grid(True)\n",
    "    ax.tick_params(axis='x', rotation=45)  # Rotation des dates pour lisibilité\n",
    "\n",
    "# Supprimer les axes inutilisés s'il y a moins de 9 types\n",
    "for j in range(len(unique_org_types), len(axes)):\n",
    "    fig.delaxes(axes[j])\n",
    "\n",
    "plt.tight_layout()\n",
    "plt.show()\n"
   ]
  },
  {
   "cell_type": "code",
   "execution_count": 56,
   "id": "de33adfc",
   "metadata": {},
   "outputs": [
    {
     "name": "stdout",
     "output_type": "stream",
     "text": [
      "count    4.800000e+01\n",
      "mean     2.342600e+05\n",
      "std      1.239422e+06\n",
      "min      1.000000e+00\n",
      "25%      1.720000e+02\n",
      "50%      6.295000e+02\n",
      "75%      1.795000e+04\n",
      "max      8.500000e+06\n",
      "Name: total_affected, dtype: float64\n"
     ]
    }
   ],
   "source": [
    "# Analyse du nombre de personnes affectées\n",
    "\n",
    "# Statistiques descriptives pour la variable 'total_affected'\n",
    "stats = df_filtré['total_affected'].describe()\n",
    "\n",
    "print(stats)"
   ]
  },
  {
   "cell_type": "markdown",
   "id": "2300c6c5",
   "metadata": {},
   "source": [
    "La moyenne est très décalée par rapport à la médiane ce qui montre que notre variable qui évalue la sévérité d'une attaque cyber est à queue lourde. Le graphique qui suite conforte bien nos observations :"
   ]
  },
  {
   "cell_type": "code",
   "execution_count": 57,
   "id": "88ca9924",
   "metadata": {},
   "outputs": [
    {
     "data": {
      "image/png": "[encoded data removed]",
      "text/plain": [
       "<Figure size 800x400 with 1 Axes>"
      ]
     },
     "metadata": {},
     "output_type": "display_data"
    }
   ],
   "source": [
    "# Calcul des quartiles\n",
    "Q1 = df_filtré['total_affected'].quantile(0.25)\n",
    "Q2 = df_filtré['total_affected'].quantile(0.50)\n",
    "Q3 = df_filtré['total_affected'].quantile(0.75)\n",
    "moy=np.mean(df_filtré['total_affected'])\n",
    "\n",
    "# Création de l'histogramme\n",
    "plt.figure(figsize=(8, 4))\n",
    "plt.hist(df_filtré['total_affected'], bins=50, alpha=0.75)\n",
    "\n",
    "# Ajout des lignes verticales pour les quartiles\n",
    "plt.axvline(Q1, color='red', linestyle='dashed', linewidth=2, label=f'Q1: {int(Q1)}')\n",
    "plt.axvline(Q2, color='blue', linestyle='dashed', linewidth=2, label=f'Q2: {int(Q2)}')\n",
    "plt.axvline(Q3, color='green', linestyle='dashed', linewidth=2, label=f'Q3: {int(Q3)}')\n",
    "plt.axvline(moy, color='brown', linestyle='dashed', linewidth=2, label=f'Mean: {int(moy)}')\n",
    "\n",
    "# Titres et légendes\n",
    "plt.title('Histogramme de total_affected avec quartiles')\n",
    "plt.xlabel('Nombre total de personnes affectées')\n",
    "plt.ylabel('Fréquence')\n",
    "plt.legend()\n",
    "plt.grid(True)\n",
    "plt.show()\n"
   ]
  },
  {
   "cell_type": "code",
   "execution_count": 58,
   "id": "55bf731d",
   "metadata": {},
   "outputs": [
    {
     "data": {
      "text/plain": [
       "1378.0"
      ]
     },
     "execution_count": 58,
     "metadata": {},
     "output_type": "execute_result"
    }
   ],
   "source": [
    "# Quantile 60%\n",
    "Q40 = df_filtré['total_affected'].quantile(0.6)\n",
    "Q40"
   ]
  },
  {
   "cell_type": "code",
   "execution_count": 59,
   "id": "2dc432a4",
   "metadata": {},
   "outputs": [
    {
     "data": {
      "text/html": [
       "<div>\n",
       "<style scoped>\n",
       "    .dataframe tbody tr th:only-of-type {\n",
       "        vertical-align: middle;\n",
       "    }\n",
       "\n",
       "    .dataframe tbody tr th {\n",
       "        vertical-align: top;\n",
       "    }\n",
       "\n",
       "    .dataframe thead th {\n",
       "        text-align: right;\n",
       "    }\n",
       "</style>\n",
       "<table border=\"1\" class=\"dataframe\">\n",
       "  <thead>\n",
       "    <tr style=\"text-align: right;\">\n",
       "      <th></th>\n",
       "      <th>Number</th>\n",
       "      <th>Mean</th>\n",
       "      <th>q0.25</th>\n",
       "      <th>Median</th>\n",
       "      <th>q0.75</th>\n",
       "      <th>q0.9</th>\n",
       "      <th>q0.95</th>\n",
       "      <th>Max</th>\n",
       "    </tr>\n",
       "    <tr>\n",
       "      <th>organization_type</th>\n",
       "      <th></th>\n",
       "      <th></th>\n",
       "      <th></th>\n",
       "      <th></th>\n",
       "      <th></th>\n",
       "      <th></th>\n",
       "      <th></th>\n",
       "      <th></th>\n",
       "    </tr>\n",
       "  </thead>\n",
       "  <tbody>\n",
       "    <tr>\n",
       "      <th>BSF</th>\n",
       "      <td>5.0</td>\n",
       "      <td>1.700644e+06</td>\n",
       "      <td>383.00</td>\n",
       "      <td>517.0</td>\n",
       "      <td>2318.00</td>\n",
       "      <td>5100927.2</td>\n",
       "      <td>6800463.60</td>\n",
       "      <td>8500000.0</td>\n",
       "    </tr>\n",
       "    <tr>\n",
       "      <th>BSO</th>\n",
       "      <td>6.0</td>\n",
       "      <td>5.190000e+02</td>\n",
       "      <td>242.00</td>\n",
       "      <td>450.0</td>\n",
       "      <td>543.25</td>\n",
       "      <td>995.5</td>\n",
       "      <td>1214.25</td>\n",
       "      <td>1433.0</td>\n",
       "    </tr>\n",
       "    <tr>\n",
       "      <th>BSR</th>\n",
       "      <td>4.0</td>\n",
       "      <td>1.077500e+02</td>\n",
       "      <td>19.75</td>\n",
       "      <td>73.0</td>\n",
       "      <td>161.00</td>\n",
       "      <td>233.0</td>\n",
       "      <td>257.00</td>\n",
       "      <td>281.0</td>\n",
       "    </tr>\n",
       "    <tr>\n",
       "      <th>EDU</th>\n",
       "      <td>3.0</td>\n",
       "      <td>1.922333e+04</td>\n",
       "      <td>1173.00</td>\n",
       "      <td>1976.0</td>\n",
       "      <td>28650.00</td>\n",
       "      <td>44654.4</td>\n",
       "      <td>49989.20</td>\n",
       "      <td>55324.0</td>\n",
       "    </tr>\n",
       "    <tr>\n",
       "      <th>GOV</th>\n",
       "      <td>0.0</td>\n",
       "      <td>NaN</td>\n",
       "      <td>NaN</td>\n",
       "      <td>NaN</td>\n",
       "      <td>NaN</td>\n",
       "      <td>NaN</td>\n",
       "      <td>NaN</td>\n",
       "      <td>NaN</td>\n",
       "    </tr>\n",
       "    <tr>\n",
       "      <th>MED</th>\n",
       "      <td>16.0</td>\n",
       "      <td>1.563991e+05</td>\n",
       "      <td>923.25</td>\n",
       "      <td>18900.0</td>\n",
       "      <td>44188.00</td>\n",
       "      <td>472720.5</td>\n",
       "      <td>971938.75</td>\n",
       "      <td>1351432.0</td>\n",
       "    </tr>\n",
       "    <tr>\n",
       "      <th>NGO</th>\n",
       "      <td>3.0</td>\n",
       "      <td>4.810000e+02</td>\n",
       "      <td>28.50</td>\n",
       "      <td>55.0</td>\n",
       "      <td>720.50</td>\n",
       "      <td>1119.8</td>\n",
       "      <td>1252.90</td>\n",
       "      <td>1386.0</td>\n",
       "    </tr>\n",
       "    <tr>\n",
       "      <th>UNKN</th>\n",
       "      <td>11.0</td>\n",
       "      <td>1.601973e+04</td>\n",
       "      <td>38.00</td>\n",
       "      <td>629.0</td>\n",
       "      <td>1168.50</td>\n",
       "      <td>32008.0</td>\n",
       "      <td>86004.00</td>\n",
       "      <td>140000.0</td>\n",
       "    </tr>\n",
       "  </tbody>\n",
       "</table>\n",
       "</div>"
      ],
      "text/plain": [
       "                   Number          Mean    q0.25   Median     q0.75  \\\n",
       "organization_type                                                     \n",
       "BSF                   5.0  1.700644e+06   383.00    517.0   2318.00   \n",
       "BSO                   6.0  5.190000e+02   242.00    450.0    543.25   \n",
       "BSR                   4.0  1.077500e+02    19.75     73.0    161.00   \n",
       "EDU                   3.0  1.922333e+04  1173.00   1976.0  28650.00   \n",
       "GOV                   0.0           NaN      NaN      NaN       NaN   \n",
       "MED                  16.0  1.563991e+05   923.25  18900.0  44188.00   \n",
       "NGO                   3.0  4.810000e+02    28.50     55.0    720.50   \n",
       "UNKN                 11.0  1.601973e+04    38.00    629.0   1168.50   \n",
       "\n",
       "                        q0.9       q0.95        Max  \n",
       "organization_type                                    \n",
       "BSF                5100927.2  6800463.60  8500000.0  \n",
       "BSO                    995.5     1214.25     1433.0  \n",
       "BSR                    233.0      257.00      281.0  \n",
       "EDU                  44654.4    49989.20    55324.0  \n",
       "GOV                      NaN         NaN        NaN  \n",
       "MED                 472720.5   971938.75  1351432.0  \n",
       "NGO                   1119.8     1252.90     1386.0  \n",
       "UNKN                 32008.0    86004.00   140000.0  "
      ]
     },
     "execution_count": 59,
     "metadata": {},
     "output_type": "execute_result"
    }
   ],
   "source": [
    "import pandas as pd\n",
    "\n",
    "# Calcul des statistiques descriptives groupées\n",
    "stats = df_filtré.groupby('organization_type')['total_affected'].describe(percentiles=[0.25, 0.5, 0.75, 0.9, 0.95])\n",
    "\n",
    "# Renommer les colonnes pour correspondre au tableau souhaité\n",
    "stats = stats.rename(columns={\n",
    "    'count': 'Number',\n",
    "    'mean': 'Mean',\n",
    "    '25%': 'q0.25',\n",
    "    '50%': 'Median',\n",
    "    '75%': 'q0.75',\n",
    "    '90%': 'q0.9',\n",
    "    '95%': 'q0.95',\n",
    "    'max': 'Max'\n",
    "})\n",
    "# Afficher le tableau\n",
    "base=stats[['Number', 'Mean', 'q0.25', 'Median', 'q0.75', 'q0.9', 'q0.95', 'Max']]\n",
    "base"
   ]
  },
  {
   "cell_type": "code",
   "execution_count": 60,
   "id": "b0185ee7",
   "metadata": {},
   "outputs": [],
   "source": [
    "# Analyse du nombre d'incidences en fonction du type d'organisation touchée"
   ]
  },
  {
   "cell_type": "code",
   "execution_count": 61,
   "id": "269b388c",
   "metadata": {},
   "outputs": [
    {
     "data": {
      "image/png": "[encoded data removed]",
      "text/plain": [
       "<Figure size 800x400 with 1 Axes>"
      ]
     },
     "metadata": {},
     "output_type": "display_data"
    }
   ],
   "source": [
    "# Compter les occurrences par année\n",
    "yearly_counts = df_filtré['organization_type'].value_counts().sort_index()\n",
    "\n",
    "# Créer le graphique\n",
    "plt.figure(figsize=(8, 4))\n",
    "plt.bar(yearly_counts.index, yearly_counts.values, color='skyblue')\n",
    "\n",
    "# Ajouter les étiquettes\n",
    "plt.title(\"Nombre d'incidences par organisation\")\n",
    "plt.xlabel(\"Type d'organisation\")\n",
    "plt.ylabel(\"Nombre d'incidences\")\n",
    "\n",
    "plt.xticks(rotation=45)\n",
    "plt.grid(axis='y')\n",
    "plt.tight_layout()\n",
    "plt.show()\n"
   ]
  },
  {
   "cell_type": "code",
   "execution_count": 62,
   "id": "856a7e23",
   "metadata": {},
   "outputs": [],
   "source": [
    "# Analyse du nombre d'incidences en fonction du type de brèche"
   ]
  },
  {
   "cell_type": "code",
   "execution_count": 63,
   "id": "10884b5f",
   "metadata": {},
   "outputs": [
    {
     "data": {
      "image/png": "[encoded data removed]",
      "text/plain": [
       "<Figure size 800x400 with 1 Axes>"
      ]
     },
     "metadata": {},
     "output_type": "display_data"
    }
   ],
   "source": [
    "\n",
    "# Compter les occurrences par année\n",
    "yearly_counts = df_filtré['breach_type'].value_counts().sort_index()\n",
    "\n",
    "# Créer le graphique\n",
    "plt.figure(figsize=(8, 4))\n",
    "plt.bar(yearly_counts.index, yearly_counts.values, color='skyblue')\n",
    "\n",
    "# Ajouter les étiquettes\n",
    "plt.title(\"Nombre d'incidences par brèche\")\n",
    "plt.xlabel(\"Type de brèche\")\n",
    "plt.ylabel(\"Nombre d'incidences\")\n",
    "\n",
    "plt.xticks(rotation=45)\n",
    "plt.grid(axis='y')\n",
    "plt.tight_layout()\n",
    "plt.show()"
   ]
  },
  {
   "cell_type": "code",
   "execution_count": 64,
   "id": "a9c52f10",
   "metadata": {},
   "outputs": [],
   "source": [
    "# Analyse du nombre d'incidences en fonction de l'année"
   ]
  },
  {
   "cell_type": "code",
   "execution_count": 65,
   "id": "5aa2d8c0",
   "metadata": {},
   "outputs": [
    {
     "data": {
      "image/png": "[encoded data removed]",
      "text/plain": [
       "<Figure size 800x400 with 1 Axes>"
      ]
     },
     "metadata": {},
     "output_type": "display_data"
    }
   ],
   "source": [
    "\n",
    "# Extraire l'année\n",
    "df_filtré['year'] = df_filtré['breach_date'].dt.year\n",
    "\n",
    "# Compter les occurrences par année\n",
    "yearly_counts = df_filtré['year'].value_counts().sort_index()\n",
    "\n",
    "# Créer le graphique\n",
    "plt.figure(figsize=(8, 4))\n",
    "plt.bar(yearly_counts.index, yearly_counts.values, color='skyblue')\n",
    "\n",
    "# Ajouter les étiquettes\n",
    "plt.title(\"Nombre d'incidences par année\")\n",
    "plt.xlabel(\"Année\")\n",
    "plt.ylabel(\"Nombre d'incidences\")\n",
    "\n",
    "plt.xticks(rotation=45)\n",
    "plt.grid(axis='y')\n",
    "plt.tight_layout()\n",
    "plt.show()\n"
   ]
  },
  {
   "cell_type": "markdown",
   "id": "c5acfa55",
   "metadata": {},
   "source": [
    "## Réseau de neurone "
   ]
  },
  {
   "cell_type": "markdown",
   "id": "776f8607",
   "metadata": {},
   "source": [
    "### Word embeding Algorithme du Word2vec"
   ]
  },
  {
   "cell_type": "markdown",
   "id": "24e72a2a",
   "metadata": {},
   "source": [
    "#### Nettoyage du corpus"
   ]
  },
  {
   "cell_type": "code",
   "execution_count": 66,
   "id": "db58576f",
   "metadata": {},
   "outputs": [],
   "source": [
    "#corpus[0]"
   ]
  },
  {
   "cell_type": "code",
   "execution_count": 67,
   "id": "d71c9551",
   "metadata": {},
   "outputs": [],
   "source": [
    "#récupérer sous forme de liste\n",
    "corpus = df['incident_details'].tolist()\n",
    "\n",
    "# Supression de date\n",
    "def remove_dates(text):\n",
    "    # Supprimer les formats de date : \"December 1, 2019\"\n",
    "    text = re.sub(r'\\b(?:January|February|March|April|May|June|July|August|September|October|November|December)\\s+\\d{1,2},\\s+\\d{4}', '', text)\n",
    "    \n",
    "    # Supprimer les mois abrégés : \"Dec 1, 2019\"\n",
    "    text = re.sub(r'\\b(?:Jan|Feb|Mar|Apr|May|Jun|Jul|Aug|Sep|Oct|Nov|Dec)\\.?\\s+\\d{1,2},\\s+\\d{4}', '', text)\n",
    "    \n",
    "    # Supprimer les années seules : \"2020\", \"1998\"\n",
    "    text = re.sub(r'\\b\\d{4}\\b', '', text)\n",
    "    \n",
    "    return text\n",
    "\n",
    "corpus=[remove_dates(doc) for doc in corpus]\n",
    "\n",
    "\n",
    "# Nettoyage et tokénisation \n",
    "# fonction de traitement \n",
    "def preprocess(text):\n",
    "    tokens = word_tokenize(text.lower())  # Mise en minuscules + tokenisation\n",
    "    tokens = [t for t in tokens if t not in string.punctuation]  # Retirer ponctuation\n",
    "    tokens = [t for t in tokens if t not in stopwords.words('english')]  # Retirer stopwords\n",
    "    return tokens\n",
    "\n",
    "# Appliquer le prétraitement\n",
    "tokenized_corpus = [preprocess(doc) for doc in corpus]\n"
   ]
  },
  {
   "cell_type": "code",
   "execution_count": 68,
   "id": "93df89a9",
   "metadata": {},
   "outputs": [
    {
     "data": {
      "text/plain": [
       "['indiana',\n",
       " 'office',\n",
       " 'attorney',\n",
       " 'general',\n",
       " 'reported',\n",
       " 'des',\n",
       " 'moines',\n",
       " 'area',\n",
       " 'community',\n",
       " 'college',\n",
       " 'experienced',\n",
       " 'data',\n",
       " 'breach',\n",
       " 'affecting',\n",
       " 'total',\n",
       " '1,976',\n",
       " 'individuals',\n",
       " '11',\n",
       " 'residents',\n",
       " 'indiana',\n",
       " 'breach',\n",
       " 'notification',\n",
       " 'reported']"
      ]
     },
     "execution_count": 68,
     "metadata": {},
     "output_type": "execute_result"
    }
   ],
   "source": [
    "tokenized_corpus[0]"
   ]
  },
  {
   "cell_type": "code",
   "execution_count": 69,
   "id": "aef03115",
   "metadata": {},
   "outputs": [
    {
     "name": "stdout",
     "output_type": "stream",
     "text": [
      "Tokens nettoyés : ['indiana', 'office', 'attorney', 'general', 'reported', 'des', 'moines', 'area', 'community', 'college', 'experienced', 'data', 'breach', 'affecting', 'total', '1,976', 'individuals', '11', 'residents', 'indiana', 'breach', 'notification', 'reported']\n",
      "Bigrams : ['indiana_office', 'attorney_general', 'reported', 'des', 'moines', 'area', 'community_college', 'experienced_data', 'breach_affecting', 'total', '1,976', 'individuals', '11', 'residents_indiana', 'breach_notification', 'reported']\n",
      "Trigrams : ['indiana_office', 'attorney_general_reported', 'des', 'moines', 'area', 'community_college', 'experienced_data_breach_affecting', 'total', '1,976', 'individuals', '11', 'residents_indiana', 'breach_notification', 'reported']\n"
     ]
    }
   ],
   "source": [
    "# Création des bigrams et trigrams\n",
    "bigram_model = Phrases(tokenized_corpus, min_count=1, threshold=1)\n",
    "trigram_model = Phrases(bigram_model[tokenized_corpus], threshold=1)\n",
    "\n",
    "# Convertir en Phraser pour meilleure performance\n",
    "bigram_phraser = Phraser(bigram_model)\n",
    "trigram_phraser = Phraser(trigram_model)\n",
    "\n",
    "# Appliquer les phrasers\n",
    "bigrams = [bigram_phraser[doc] for doc in tokenized_corpus]\n",
    "trigrams = [trigram_phraser[bigram_phraser[doc]] for doc in tokenized_corpus]\n",
    "\n",
    "# Affichage des résultats\n",
    "print(\"Tokens nettoyés :\", tokenized_corpus[0])\n",
    "print(\"Bigrams :\", bigrams[0])\n",
    "print(\"Trigrams :\", trigrams[0])"
   ]
  },
  {
   "cell_type": "markdown",
   "id": "1f8b1b2b",
   "metadata": {},
   "source": [
    "####  Word2Vec avec Gensim proprement dit"
   ]
  },
  {
   "cell_type": "code",
   "execution_count": 70,
   "id": "95c215df",
   "metadata": {},
   "outputs": [],
   "source": [
    "#word2vec\n",
    "from gensim.models import Word2Vec\n",
    "modele = Word2Vec(trigrams,min_count=1,vector_size=2,window=5)"
   ]
  },
  {
   "cell_type": "code",
   "execution_count": 71,
   "id": "15f62dd9",
   "metadata": {},
   "outputs": [
    {
     "data": {
      "text/plain": [
       "{'breach_involving': 0,\n",
       " 'consumer_affairs': 1,\n",
       " 'massachusetts_office': 2,\n",
       " 'social_security': 3,\n",
       " 'business_regulation_reported_data': 4,\n",
       " 'affected': 5,\n",
       " 'numbers': 6,\n",
       " 'attorney_general_reported_data': 7,\n",
       " 'attorney_general_reported': 8,\n",
       " 'individuals': 9,\n",
       " 'information': 10,\n",
       " 'health_human_services_reported': 11,\n",
       " 'u.s._department': 12,\n",
       " 'electronic_records': 13,\n",
       " 'data_breach': 14,\n",
       " 'breach_affected': 15,\n",
       " 'personal_information': 16,\n",
       " 'indiana_office': 17,\n",
       " 'residents': 18,\n",
       " 'new_hampshire': 19,\n",
       " 'unauthorized_access': 20,\n",
       " 'maryland_office': 21,\n",
       " 'breach_occurred': 22,\n",
       " 'affecting': 23,\n",
       " 'individuals_including': 24,\n",
       " 'maryland_residents': 25,\n",
       " 'occurred': 26,\n",
       " 'security_numbers': 27,\n",
       " 'experienced_data_breach_affecting': 28,\n",
       " 'breach': 29,\n",
       " 'reported': 30,\n",
       " 'justice_reported': 31,\n",
       " 'incident_affecting': 32,\n",
       " 'involved': 33,\n",
       " 'inc.': 34,\n",
       " 'data_breach_involving': 35,\n",
       " 'dates_birth': 36,\n",
       " 'including_names': 37,\n",
       " 'maine_office': 38,\n",
       " 'breach_involved': 39,\n",
       " 'business_regulation_reported': 40,\n",
       " 'credit_debit': 41,\n",
       " 'inc._breach': 42,\n",
       " 'approximately': 43,\n",
       " 'involved_unauthorized': 44,\n",
       " 'compromised_electronic_records_specifically': 45,\n",
       " 'access': 46,\n",
       " 'information_phi': 47,\n",
       " 'individuals_breach': 48,\n",
       " '1_resident': 49,\n",
       " 'data': 50,\n",
       " 'names_social_security_numbers': 51,\n",
       " 'residents_breach': 52,\n",
       " 'inc._experienced': 53,\n",
       " 'occurred_affecting_total': 54,\n",
       " 'compromised_information': 55,\n",
       " 'california_office': 56,\n",
       " 'montana_department': 57,\n",
       " 'details': 58,\n",
       " 'residents_involved': 59,\n",
       " 'names_addresses': 60,\n",
       " 'unknown': 61,\n",
       " \"'s\": 62,\n",
       " 'personal': 63,\n",
       " 'numbers_ssn': 64,\n",
       " 'involving_unauthorized': 65,\n",
       " 'identity_theft': 66,\n",
       " 'protection_services': 67,\n",
       " 'containing': 68,\n",
       " 'specifically_credit': 69,\n",
       " 'debit_numbers': 70,\n",
       " 'information_including': 71,\n",
       " 'systems': 72,\n",
       " 'provided': 73,\n",
       " 'numbers_ssns': 74,\n",
       " 'llc': 75,\n",
       " 'due': 76,\n",
       " 'total': 77,\n",
       " 'protected_health': 78,\n",
       " 'number_individuals': 79,\n",
       " 'affecting_total': 80,\n",
       " 'specific_details': 81,\n",
       " 'financial_account': 82,\n",
       " 'names': 83,\n",
       " 'network_server': 84,\n",
       " 'experienced_hacking/it': 85,\n",
       " 'hospital': 86,\n",
       " 'offered': 87,\n",
       " 'number': 88,\n",
       " 'affected_1': 89,\n",
       " 'compromised': 90,\n",
       " 'breach_potentially': 91,\n",
       " 'involved_exposure': 92,\n",
       " 'identification_numbers': 93,\n",
       " 'potentially_affecting': 94,\n",
       " 'security_number': 95,\n",
       " 'incident': 96,\n",
       " '2_residents': 97,\n",
       " 'account_numbers': 98,\n",
       " '3_residents': 99,\n",
       " 'group': 100,\n",
       " 'email_addresses': 101,\n",
       " 'services': 102,\n",
       " 'addresses': 103,\n",
       " 'records': 104,\n",
       " 'theft': 105,\n",
       " 'payment_card': 106,\n",
       " 'health': 107,\n",
       " 'potentially_exposed': 108,\n",
       " 'ssn': 109,\n",
       " 'residents_compromised': 110,\n",
       " 'compromising_social': 111,\n",
       " 'account': 112,\n",
       " 'llc_experienced': 113,\n",
       " 'sensitive': 114,\n",
       " 'community_college': 115,\n",
       " 'employees': 116,\n",
       " 'included_names': 117,\n",
       " 'phone_numbers': 118,\n",
       " 'rsa': 119,\n",
       " 'experienced_data': 120,\n",
       " 'breach_classified': 121,\n",
       " 'department_justice': 122,\n",
       " 'financial_information': 123,\n",
       " 'credit_card': 124,\n",
       " 'individuals_compromised': 125,\n",
       " 'discovered': 126,\n",
       " 'credit_union': 127,\n",
       " 'records_containing': 128,\n",
       " 'number_affected': 129,\n",
       " 'exposing': 130,\n",
       " 'resident': 131,\n",
       " 'records_specifically': 132,\n",
       " 'school': 133,\n",
       " 'identified': 134,\n",
       " 'breach_may': 135,\n",
       " 'software': 136,\n",
       " 'certain': 137,\n",
       " '13': 138,\n",
       " 'files': 139,\n",
       " 'birth': 140,\n",
       " 'name': 141,\n",
       " 'offered_12': 142,\n",
       " 'months': 143,\n",
       " '4_residents': 144,\n",
       " 'affected_individuals': 145,\n",
       " 'inc_breach': 146,\n",
       " 'email_phishing': 147,\n",
       " 'reported_data_breach_involving': 148,\n",
       " 'medical_center': 149,\n",
       " 'business_associate': 150,\n",
       " 'specifically': 151,\n",
       " 'card_numbers': 152,\n",
       " 'response': 153,\n",
       " 'four': 154,\n",
       " 'compromise_electronic': 155,\n",
       " 'licenses': 156,\n",
       " 'california': 157,\n",
       " 'experienced_hacking': 158,\n",
       " 'exact': 159,\n",
       " 'ephi_stored': 160,\n",
       " 'members': 161,\n",
       " 'health_plan': 162,\n",
       " 'office_attorney': 163,\n",
       " 'general_reported': 164,\n",
       " 'residents_specifically': 165,\n",
       " 'bank_breach': 166,\n",
       " 'university_experienced': 167,\n",
       " 'types_information': 168,\n",
       " 'maine': 169,\n",
       " 'state': 170,\n",
       " 'although': 171,\n",
       " 'affected_personal': 172,\n",
       " 'access_customer': 173,\n",
       " 'new': 174,\n",
       " 'application': 175,\n",
       " 'experienced_unauthorized': 176,\n",
       " 'data_included': 177,\n",
       " 'customer': 178,\n",
       " 'credit/debit': 179,\n",
       " 'card': 180,\n",
       " 'indiana': 181,\n",
       " 'involved_compromised': 182,\n",
       " 'expiration': 183,\n",
       " 'village_bank': 184,\n",
       " 'actions': 185,\n",
       " 'including': 186,\n",
       " 'enhanced': 187,\n",
       " 'malware_attack': 188,\n",
       " 'security_measures': 189,\n",
       " 'employee': 190,\n",
       " 'information_names': 191,\n",
       " 'holdings': 192,\n",
       " 'health_information': 193,\n",
       " 'electronic_protected': 194,\n",
       " 'hacking/it_incident': 195,\n",
       " 'one_individual': 196,\n",
       " 'numbers_drivers': 197,\n",
       " 'experienced': 198,\n",
       " 'address': 199,\n",
       " 'affecting_1': 200,\n",
       " 'resident_breach': 201,\n",
       " 'employment_information': 202,\n",
       " 'date': 203,\n",
       " 'personal_health': 204,\n",
       " 'includes': 205,\n",
       " 'impacted': 206,\n",
       " 'security': 207,\n",
       " '500_individuals': 208,\n",
       " 'notification': 209,\n",
       " 'group_breach': 210,\n",
       " 'illinois': 211,\n",
       " 'addresses_social': 212,\n",
       " 'attorney_general': 213,\n",
       " 'resident_involved': 214,\n",
       " 'involved_compromise': 215,\n",
       " 'financial': 216,\n",
       " 'incident_potentially': 217,\n",
       " 'usa': 218,\n",
       " 'coast': 219,\n",
       " 'name_social': 220,\n",
       " 'one': 221,\n",
       " 'information_included': 222,\n",
       " 'dental': 223,\n",
       " 'patient': 224,\n",
       " 'foundation_experienced': 225,\n",
       " 'desktop': 226,\n",
       " 'employee_email': 227,\n",
       " 'america': 228,\n",
       " 'healthcare_inc.': 229,\n",
       " \"driver_'s\": 230,\n",
       " 'medical_records': 231,\n",
       " 'email': 232,\n",
       " 'florida': 233,\n",
       " 'specific': 234,\n",
       " '17': 235,\n",
       " 'home_addresses': 236,\n",
       " 'february': 237,\n",
       " '1_individual': 238,\n",
       " 'information_includes': 239,\n",
       " 'place': 240,\n",
       " 'breach_hacking': 241,\n",
       " 'corporation_breach': 242,\n",
       " 'ransomware': 243,\n",
       " 'network': 244,\n",
       " 'u.s.': 245,\n",
       " 'residents_impacted': 246,\n",
       " 'insurance_company': 247,\n",
       " 'external_system': 248,\n",
       " 'attack_affecting': 249,\n",
       " 'subsidiary': 250,\n",
       " 'taken': 251,\n",
       " 'bank': 252,\n",
       " 'website_potentially': 253,\n",
       " 'services_inc.': 254,\n",
       " '9': 255,\n",
       " 'young': 256,\n",
       " 'diagnoses_treatment': 257,\n",
       " 'written': 258,\n",
       " 'numbers_driver': 259,\n",
       " '5_residents': 260,\n",
       " 'sent': 261,\n",
       " \"'s_license\": 262,\n",
       " 'broward_health': 263,\n",
       " 'd/b/a': 264,\n",
       " 'mailing': 265,\n",
       " 'oregon_department': 266,\n",
       " 'reported_american': 267,\n",
       " 'resulted': 268,\n",
       " 'regarding': 269,\n",
       " 'license_numbers': 270,\n",
       " 'driver_’': 271,\n",
       " 'member': 272,\n",
       " 'containing_social': 273,\n",
       " '25': 274,\n",
       " 'washington_state': 275,\n",
       " 'inc': 276,\n",
       " 'noted': 277,\n",
       " 'ssn_account': 278,\n",
       " 'health_experienced': 279,\n",
       " 'exposure': 280,\n",
       " 'hotels': 281,\n",
       " 'llc_affecting': 282,\n",
       " 'july': 283,\n",
       " 'breach_notification': 284,\n",
       " 'addresses_dates': 285,\n",
       " 'county': 286,\n",
       " 'may': 287,\n",
       " 'vendor': 288,\n",
       " 'credit_monitoring': 289,\n",
       " 'aladdin_capital': 290,\n",
       " 'compromised_electronic': 291,\n",
       " 'misuse': 292,\n",
       " 'portable_electronic': 293,\n",
       " 'device': 294,\n",
       " 'resulting': 295,\n",
       " 'containing_personal': 296,\n",
       " '2_maine': 297,\n",
       " 'access_employee': 298,\n",
       " 'breach_discovered': 299,\n",
       " 'located': 300,\n",
       " 'currently_unknown': 301,\n",
       " 'individuals_affected': 302,\n",
       " 'information_compromised': 303,\n",
       " 'health_department': 304,\n",
       " 'schools': 305,\n",
       " 'virtual': 306,\n",
       " 'unitedhealth': 307,\n",
       " 'caused': 308,\n",
       " 'change': 309,\n",
       " 'orchard': 310,\n",
       " '48': 311,\n",
       " 'pearson': 312,\n",
       " 'sorting': 313,\n",
       " 'thirteen': 314,\n",
       " 'resources': 315,\n",
       " 'actual': 316,\n",
       " '-nec': 317,\n",
       " 'error': 318,\n",
       " 'office': 319,\n",
       " 'forms': 320,\n",
       " '1,386': 321,\n",
       " 'dba': 322,\n",
       " '1,324': 323,\n",
       " 'education': 324,\n",
       " 'without': 325,\n",
       " 'iowa': 326,\n",
       " 'note': 327,\n",
       " 'taxpayer': 328,\n",
       " 'ransom': 329,\n",
       " 'compensation': 330,\n",
       " 'amounts': 331,\n",
       " 'different': 332,\n",
       " 'inadvertently': 333,\n",
       " 'connections': 334,\n",
       " 'viewed': 335,\n",
       " 'orthopedics': 336,\n",
       " 'breached_information': 337,\n",
       " 'worcester': 338,\n",
       " '499': 339,\n",
       " 'numbers_social': 340,\n",
       " 'eagle': 341,\n",
       " 'affected_2': 342,\n",
       " 'institute': 343,\n",
       " '370': 344,\n",
       " 'zumiez': 345,\n",
       " 'disclosed': 346,\n",
       " 'hacking': 347,\n",
       " 'n.a': 348,\n",
       " 'share': 349,\n",
       " 'allowed': 350,\n",
       " 'system_breach': 351,\n",
       " 'experienced_external': 352,\n",
       " 'specialties': 353,\n",
       " 'ascensus': 354,\n",
       " 'canada': 355,\n",
       " 'accessed': 356,\n",
       " 'student': 357,\n",
       " 'polytechnic': 358,\n",
       " 'maine_residents': 359,\n",
       " 'shared': 360,\n",
       " 'notifications': 361,\n",
       " 'deployed': 362,\n",
       " 'sci': 363,\n",
       " 'initial': 364,\n",
       " 'neurosurgery': 365,\n",
       " 'included_social': 366,\n",
       " 'encryption': 367,\n",
       " 'yet': 368,\n",
       " 'fully': 369,\n",
       " 'others': 370,\n",
       " 'rebound': 371,\n",
       " 'riley': 372,\n",
       " 'mark': 373,\n",
       " 'detailed': 374,\n",
       " 'business_regulation': 375,\n",
       " 'codes': 376,\n",
       " 'express': 377,\n",
       " 'identifiable': 378,\n",
       " 'pii': 379,\n",
       " 'verification': 380,\n",
       " 'dates': 381,\n",
       " 'physician': 382,\n",
       " 'flagstar': 383,\n",
       " 'bswf': 384,\n",
       " 'minnesota': 385,\n",
       " 'scott': 386,\n",
       " 'white': 387,\n",
       " 'frisco': 388,\n",
       " 'card_information': 389,\n",
       " 'customer_payment': 390,\n",
       " 'marmishoes.com': 391,\n",
       " 'emailed': 392,\n",
       " 'added': 393,\n",
       " 'code': 394,\n",
       " 'insurance': 395,\n",
       " 'premier': 396,\n",
       " 'marmi': 397,\n",
       " 'wolff-st': 398,\n",
       " 'department': 399,\n",
       " 'human_services': 400,\n",
       " 'baylor': 401,\n",
       " 'hacking_affected': 402,\n",
       " '3m': 403,\n",
       " '20,320': 404,\n",
       " '807': 405,\n",
       " 'resort': 406,\n",
       " 'entertainment': 407,\n",
       " 'schemes': 408,\n",
       " 'compromising': 409,\n",
       " 'hershey': 410,\n",
       " 'numbers_medical': 411,\n",
       " 'names_dates': 412,\n",
       " 'birth_social': 413,\n",
       " 'servers': 414,\n",
       " 'organization': 415,\n",
       " 'departing': 416,\n",
       " 'outside': 417,\n",
       " '55,324': 418,\n",
       " '1,976': 419,\n",
       " 'occurring': 420,\n",
       " '627': 421,\n",
       " 'identifiers': 422,\n",
       " 'residents_indiana': 423,\n",
       " '11': 424,\n",
       " 'combination': 425,\n",
       " 'starmount': 426,\n",
       " 'digits': 427,\n",
       " 'life': 428,\n",
       " '630': 429,\n",
       " 'area': 430,\n",
       " 'moines': 431,\n",
       " 'des': 432,\n",
       " 'scheme': 433,\n",
       " 'cpt': 434,\n",
       " 'wms': 435,\n",
       " 'partners': 436,\n",
       " 'foundation': 437,\n",
       " 'occurred_due': 438,\n",
       " 'phishing': 439,\n",
       " 'kaiser': 440,\n",
       " '383': 441,\n",
       " 'breach_affecting': 442,\n",
       " 'potentially_compromising': 443,\n",
       " 'identification': 444,\n",
       " 'employer': 445,\n",
       " 'physical': 446,\n",
       " 'either': 447,\n",
       " 'include': 448,\n",
       " 'last': 449,\n",
       " 'types': 450,\n",
       " 'corrective': 451,\n",
       " 'retraining': 452,\n",
       " 'anthem': 453,\n",
       " '566': 454,\n",
       " 'ameriprise': 455,\n",
       " 'sisters': 456,\n",
       " 'kennedy': 457,\n",
       " 'university': 458,\n",
       " 'products': 459,\n",
       " 't/a': 460,\n",
       " '24,037': 461,\n",
       " 'glaxosmithkline': 462,\n",
       " 'jefferson': 463,\n",
       " 'pharmacy': 464,\n",
       " 'mailmyprescriptions.com': 465,\n",
       " 'access/disclosure': 466,\n",
       " 'within': 467,\n",
       " '4,140': 468,\n",
       " 'system': 469,\n",
       " '120,391': 470,\n",
       " 'taskrabbit': 471,\n",
       " 'additional': 472,\n",
       " 'implemented': 473,\n",
       " 'crystals': 474,\n",
       " 'documents': 475,\n",
       " 'tax-related': 476,\n",
       " 'drivers_licenses': 477,\n",
       " 'sherman': 478,\n",
       " 'howard': 479,\n",
       " '517': 480,\n",
       " 'maryland': 481,\n",
       " 'baystate': 482,\n",
       " 'notification_reported': 483,\n",
       " 'evidence': 484,\n",
       " '6,748': 485,\n",
       " 'present': 486,\n",
       " '29': 487,\n",
       " 'medicine': 488,\n",
       " 'vulnerability': 489,\n",
       " '3,074': 490,\n",
       " 'plan': 491,\n",
       " 'welfare': 492,\n",
       " 'including_social': 493,\n",
       " 'adt': 494,\n",
       " 'equifax': 495,\n",
       " 'credit': 496,\n",
       " 'history': 497,\n",
       " '1,433': 498,\n",
       " 'insureon': 499,\n",
       " '1,376': 500,\n",
       " 'notice': 501,\n",
       " 'yeshiva': 502,\n",
       " '189': 503,\n",
       " 'file': 504,\n",
       " 'inpatient': 505,\n",
       " 'transfer': 506,\n",
       " 'ultrafabrics': 507,\n",
       " 'accellion': 508,\n",
       " 'commenced': 509,\n",
       " '55': 510,\n",
       " 'exposed': 511,\n",
       " 'email_account': 512,\n",
       " 'fund': 513,\n",
       " 'pension': 514,\n",
       " '3': 515,\n",
       " 'employers': 516,\n",
       " 'musicians': 517,\n",
       " 'federation': 518,\n",
       " 'central': 519,\n",
       " 'pelican': 520,\n",
       " 'potentially_exposing': 521,\n",
       " 'around': 522,\n",
       " '297': 523,\n",
       " 'pediatric': 524,\n",
       " 'access_electronic': 525,\n",
       " '464': 526,\n",
       " 'pllc': 527,\n",
       " 'washington': 528,\n",
       " 'retina': 529,\n",
       " 'missouri': 530,\n",
       " 'diabetes': 531,\n",
       " 'delta_dental': 532,\n",
       " 'computers': 533,\n",
       " 'unencrypted': 534,\n",
       " 'stolen': 535,\n",
       " '32,390': 536,\n",
       " 'lake': 537,\n",
       " 'endocrinology': 538,\n",
       " 'specialists': 539,\n",
       " 'removed': 540,\n",
       " 'locations': 541,\n",
       " 'intuit': 542,\n",
       " '844': 543,\n",
       " '863': 544,\n",
       " 'tritech': 545,\n",
       " 'marys': 546,\n",
       " 'st': 547,\n",
       " 'used': 548,\n",
       " 'medical': 549,\n",
       " 'drive-in': 550,\n",
       " 'sonic': 551,\n",
       " 'id': 552,\n",
       " 'full': 553,\n",
       " '1,021': 554,\n",
       " 'affected_approximately': 555,\n",
       " 'type': 556,\n",
       " 'mmm': 557,\n",
       " 'specifically_account': 558,\n",
       " 'incident_affected': 559,\n",
       " 'individuals_breached': 560,\n",
       " 'rates': 561,\n",
       " 'pay': 562,\n",
       " 'titles': 563,\n",
       " 'job': 564,\n",
       " 'information_located': 565,\n",
       " 'allegiant': 566,\n",
       " 'street': 567,\n",
       " '34': 568,\n",
       " 'sending': 569,\n",
       " 'accidental': 570,\n",
       " 'company_experienced': 571,\n",
       " 'resource': 572,\n",
       " 'precision': 573,\n",
       " '17,000': 574,\n",
       " 'rohde': 575,\n",
       " 'schwarz': 576,\n",
       " 'center': 577,\n",
       " 'community': 578,\n",
       " 'three': 579,\n",
       " 'anonymous': 580,\n",
       " 'emails': 581,\n",
       " '14': 582,\n",
       " 'covid-19': 583,\n",
       " 'vaccination': 584,\n",
       " 'status': 585,\n",
       " '61': 586,\n",
       " 'york': 587,\n",
       " 'interior': 588,\n",
       " 'design': 589,\n",
       " 'unspecified': 590,\n",
       " 'incidents': 591,\n",
       " 'belonging': 592,\n",
       " '6': 593,\n",
       " 'continents': 594,\n",
       " '1,700': 595,\n",
       " 'hingham': 596,\n",
       " 'town': 597,\n",
       " 'kinetx': 598,\n",
       " 'intercontinental': 599,\n",
       " 'business': 600,\n",
       " 'six': 601,\n",
       " 'personnel': 602,\n",
       " 'leading': 603,\n",
       " '845,441': 604,\n",
       " 'hacking_incident': 605,\n",
       " 'sutter': 606,\n",
       " 'indication': 607,\n",
       " 'former': 608,\n",
       " 'north': 609,\n",
       " 'broward': 610,\n",
       " 'district': 611,\n",
       " '1,351,431': 612,\n",
       " 'initiated': 613,\n",
       " 'password': 614,\n",
       " 'resets': 615,\n",
       " 'technical': 616,\n",
       " 'safeguards': 617,\n",
       " 'paper': 618,\n",
       " 'services_affected': 619,\n",
       " 'carmenta': 620,\n",
       " 'management': 621,\n",
       " 'affect': 622,\n",
       " 'allegheny': 623,\n",
       " 'pc': 624,\n",
       " 'associates': 625,\n",
       " 'current': 626,\n",
       " 'laptop': 627,\n",
       " 'customers': 628,\n",
       " 'aol': 629,\n",
       " 'check': 630,\n",
       " 'certegy': 631,\n",
       " 'access_information': 632,\n",
       " '100,000': 633,\n",
       " 'egyptian': 634,\n",
       " '64': 635,\n",
       " 'jersey': 636,\n",
       " 'concerning': 637,\n",
       " 'loss': 638,\n",
       " '32,008': 639,\n",
       " 'medassets': 640,\n",
       " 'numbers_addresses': 641,\n",
       " 'log-ins': 642,\n",
       " 'fraudulent': 643,\n",
       " 'fidelity': 644,\n",
       " 'national': 645,\n",
       " 'fis': 646,\n",
       " '8.5': 647,\n",
       " 'million': 648,\n",
       " 'consumer': 649,\n",
       " 'included': 650,\n",
       " 'misappropriation': 651,\n",
       " '20,149': 652,\n",
       " 'indicating': 653,\n",
       " '1,817': 654,\n",
       " 'involving_delta': 655,\n",
       " 'suntrust': 656,\n",
       " 'banks': 657,\n",
       " 'method': 658,\n",
       " 'foodservice': 659,\n",
       " 'usf': 660,\n",
       " 'perpetrator': 661,\n",
       " 'air': 662,\n",
       " '30': 663,\n",
       " '2,318': 664,\n",
       " 'international': 665,\n",
       " 'reeves': 666,\n",
       " '1,160': 667,\n",
       " 'transunion': 668,\n",
       " 'individual': 669,\n",
       " 'complimentary': 670,\n",
       " 'impacting': 671,\n",
       " 'began': 672,\n",
       " 'email_accounts': 673,\n",
       " '10': 674,\n",
       " '12': 675,\n",
       " 'law': 676,\n",
       " 'attorney': 677,\n",
       " 'gained': 678,\n",
       " 'filters': 679,\n",
       " 'concluded': 680,\n",
       " 'contained': 681,\n",
       " 'access_computer': 682,\n",
       " 'stop': 683,\n",
       " 'whistle': 684,\n",
       " '’': 685,\n",
       " 'honig': 686,\n",
       " 'technological': 687,\n",
       " 'michigan': 688,\n",
       " 'passwords': 689,\n",
       " 'breyer': 690,\n",
       " 'usernames': 691,\n",
       " 'website': 692,\n",
       " 'report': 693,\n",
       " 'made': 694,\n",
       " 'compromising_personal': 695,\n",
       " 'horses': 696,\n",
       " 'database': 697,\n",
       " 'pmg': 698,\n",
       " 'encrypted': 699,\n",
       " 'computer_network': 700,\n",
       " 'stored': 701,\n",
       " 'companies': 702,\n",
       " 'lowe': 703,\n",
       " 'and/or': 704,\n",
       " 'cummins': 705,\n",
       " '52': 706,\n",
       " 'behavioral': 707,\n",
       " 'mary': 708,\n",
       " 'co.': 709,\n",
       " 'supply': 710,\n",
       " 'electric': 711,\n",
       " 'united': 712,\n",
       " 'reported_data': 713,\n",
       " 'initially': 714,\n",
       " 'third-party': 715,\n",
       " 'safetyfirst': 716,\n",
       " '281': 717,\n",
       " 'potential': 718,\n",
       " 'river': 719,\n",
       " 'unsecured': 720,\n",
       " 'april': 721,\n",
       " 'mulkay': 722,\n",
       " 'cardiology': 723,\n",
       " 'consultants': 724,\n",
       " 'holy': 725,\n",
       " 'pearl': 726,\n",
       " 'p.c': 727,\n",
       " '79,582': 728,\n",
       " 'involve': 729,\n",
       " 'mutual': 730,\n",
       " 'st.': 731,\n",
       " 'affecting_approximately': 732,\n",
       " '32': 733,\n",
       " 'peddie': 734,\n",
       " 'involving': 735,\n",
       " 'association': 736,\n",
       " 'lynch': 737,\n",
       " 'merrill': 738,\n",
       " 'affecting_personal': 739,\n",
       " 'overseas': 740,\n",
       " 'gibson': 741,\n",
       " 'well': 742,\n",
       " 'gillian': 743,\n",
       " '21,826': 744,\n",
       " 'computer': 745,\n",
       " 'stole': 746,\n",
       " 'person': 747,\n",
       " '’_license': 748,\n",
       " 'took': 749,\n",
       " 'number_ssn': 750,\n",
       " 'safer': 751,\n",
       " 'two': 752,\n",
       " 'accounts': 753,\n",
       " 'view': 754,\n",
       " '2': 755,\n",
       " 'intermittently': 756,\n",
       " '24': 757,\n",
       " 'professional': 758,\n",
       " 'compounding': 759,\n",
       " 'centers': 760,\n",
       " '961': 761,\n",
       " 'valley': 762,\n",
       " 'allen': 763,\n",
       " 'shariff': 764,\n",
       " 'corporation': 765,\n",
       " '558': 766,\n",
       " 'dds': 767,\n",
       " 'george': 768,\n",
       " 'cvv': 769,\n",
       " 'travel': 770,\n",
       " '180': 771,\n",
       " 'risks': 772,\n",
       " 'global': 773,\n",
       " 'allianz': 774,\n",
       " 'company': 775,\n",
       " 'related': 776,\n",
       " 'american_express': 777,\n",
       " 'issued': 778,\n",
       " 'potentially_affected': 779,\n",
       " '401': 780,\n",
       " 'exposure_electronic': 781,\n",
       " '26': 782,\n",
       " 'rehabilitation': 783,\n",
       " 'genesis': 784,\n",
       " 'enterprises': 785,\n",
       " 'ephi': 786,\n",
       " 'seiu': 787,\n",
       " '775': 788,\n",
       " 'benefits': 789,\n",
       " '140,000': 790,\n",
       " '129': 791,\n",
       " 'abbott': 792,\n",
       " 'nutrition': 793,\n",
       " '2,804': 794,\n",
       " 'enfield': 795,\n",
       " 'city': 796,\n",
       " 'clarksburg': 797,\n",
       " 'west': 798,\n",
       " 'virginia': 799,\n",
       " 'claims': 800,\n",
       " 'government': 801,\n",
       " 'numbers_financial': 802}"
      ]
     },
     "execution_count": 71,
     "metadata": {},
     "output_type": "execute_result"
    }
   ],
   "source": [
    "#propriété \"wv\" -> wordvector\n",
    "words = modele.wv\n",
    "\n",
    "#affichage des termes de leur index\n",
    "words.key_to_index"
   ]
  },
  {
   "cell_type": "code",
   "execution_count": 72,
   "id": "644ff1c9",
   "metadata": {},
   "outputs": [
    {
     "data": {
      "image/png": "[encoded data removed]",
      "text/plain": [
       "<Figure size 1200x600 with 1 Axes>"
      ]
     },
     "metadata": {},
     "output_type": "display_data"
    }
   ],
   "source": [
    "# initialisation de l'histogramme\n",
    "freq = dict()\n",
    "for v in list(words.index_to_key):\n",
    "    freq[v] = 0\n",
    "    \n",
    "# comptage des occurrences\n",
    "for d in trigrams:\n",
    "    for w in d:\n",
    "        freq[w] += 1\n",
    "\n",
    "d=dict(list(freq.items())[:20])\n",
    "df1 = pd.DataFrame({'freq':d.values()}, index=d.keys())\n",
    "\n",
    "ax = df1.plot.bar(rot=45,figsize=(12, 6))\n",
    "ax.tick_params(axis='x', labelsize=10)  # ajuster la taille des étiquettes\n",
    "plt.tight_layout()\n",
    "plt.show()"
   ]
  },
  {
   "cell_type": "code",
   "execution_count": 73,
   "id": "4cc5b38a",
   "metadata": {},
   "outputs": [
    {
     "name": "stdout",
     "output_type": "stream",
     "text": [
      "[0.35354015 0.4551764 ]\n",
      "[-0.39857256 -0.47111708]\n"
     ]
    }
   ],
   "source": [
    "#coordonnées \n",
    "vec2 = words['social_security']\n",
    "print(vec2)\n",
    "vec1 = words['individuals']\n",
    "print(vec1)"
   ]
  },
  {
   "cell_type": "code",
   "execution_count": 74,
   "id": "473e84cf",
   "metadata": {},
   "outputs": [
    {
     "name": "stdout",
     "output_type": "stream",
     "text": [
      "-0.9991266\n"
     ]
    }
   ],
   "source": [
    "print(np.dot(vec1,vec2)/(np.linalg.norm(vec1)*np.linalg.norm(vec2)))"
   ]
  },
  {
   "cell_type": "code",
   "execution_count": 75,
   "id": "712504cf",
   "metadata": {},
   "outputs": [
    {
     "name": "stdout",
     "output_type": "stream",
     "text": [
      "[0.35354015 0.4551764 ]\n",
      "[-0.39857256 -0.47111708]\n"
     ]
    }
   ],
   "source": [
    "#coordonnées \n",
    "vec2 = words['social_security']\n",
    "print(vec2)\n",
    "vec1 = words['individuals']\n",
    "print(vec1)"
   ]
  },
  {
   "cell_type": "code",
   "execution_count": 76,
   "id": "97c8738e",
   "metadata": {},
   "outputs": [
    {
     "name": "stdout",
     "output_type": "stream",
     "text": [
      "-0.9991266\n"
     ]
    }
   ],
   "source": [
    "print(np.dot(vec1,vec2)/(np.linalg.norm(vec1)*np.linalg.norm(vec2)))"
   ]
  },
  {
   "cell_type": "code",
   "execution_count": 77,
   "id": "babdae11",
   "metadata": {},
   "outputs": [
    {
     "data": {
      "text/plain": [
       "-0.9991265"
      ]
     },
     "execution_count": 77,
     "metadata": {},
     "output_type": "execute_result"
    }
   ],
   "source": [
    "#similarité de gensim\n",
    "words.similarity('individuals','social_security')"
   ]
  },
  {
   "cell_type": "code",
   "execution_count": 78,
   "id": "5869dd84",
   "metadata": {},
   "outputs": [
    {
     "data": {
      "text/plain": [
       "[('website', 0.9999681115150452),\n",
       " ('concluded', 0.9999569654464722),\n",
       " ('ultrafabrics', 0.9999409317970276),\n",
       " ('credit_debit', 0.9998475313186646),\n",
       " ('worcester', 0.9998411536216736),\n",
       " ('seiu', 0.9998353123664856),\n",
       " ('breach_may', 0.9998160600662231),\n",
       " ('resources', 0.9997771978378296),\n",
       " ('120,391', 0.9997478723526001),\n",
       " ('partners', 0.9997041821479797),\n",
       " ('stole', 0.9996739625930786),\n",
       " ('affecting_personal', 0.9994251132011414),\n",
       " ('illinois', 0.9991669058799744),\n",
       " ('personnel', 0.9991531372070312),\n",
       " ('computer_network', 0.9990767240524292),\n",
       " ('financial_account', 0.9989498853683472),\n",
       " ('mulkay', 0.9988950490951538),\n",
       " ('data_breach_involving', 0.9986581802368164),\n",
       " ('locations', 0.9985178112983704),\n",
       " ('consumer', 0.9983582496643066)]"
      ]
     },
     "execution_count": 78,
     "metadata": {},
     "output_type": "execute_result"
    }
   ],
   "source": [
    "#les termes les plus proches de \"boring\"\n",
    "words.most_similar(\"social_security\",topn=20)"
   ]
  },
  {
   "cell_type": "code",
   "execution_count": 79,
   "id": "51030c2f",
   "metadata": {},
   "outputs": [
    {
     "data": {
      "text/plain": [
       "[('website', 0.9999681115150452),\n",
       " ('concluded', 0.9999569654464722),\n",
       " ('ultrafabrics', 0.9999409317970276),\n",
       " ('credit_debit', 0.9998475313186646),\n",
       " ('worcester', 0.9998411536216736),\n",
       " ('seiu', 0.9998353123664856),\n",
       " ('breach_may', 0.9998160600662231),\n",
       " ('resources', 0.9997771978378296),\n",
       " ('120,391', 0.9997478723526001),\n",
       " ('partners', 0.9997041821479797),\n",
       " ('stole', 0.9996739625930786),\n",
       " ('affecting_personal', 0.9994251132011414),\n",
       " ('illinois', 0.9991669058799744),\n",
       " ('personnel', 0.9991531372070312),\n",
       " ('computer_network', 0.9990767240524292),\n",
       " ('financial_account', 0.9989498853683472),\n",
       " ('mulkay', 0.9988950490951538),\n",
       " ('data_breach_involving', 0.9986581802368164),\n",
       " ('locations', 0.9985178112983704),\n",
       " ('consumer', 0.9983582496643066)]"
      ]
     },
     "execution_count": 79,
     "metadata": {},
     "output_type": "execute_result"
    }
   ],
   "source": [
    "#les termes les plus proches de \"boring\"\n",
    "words.most_similar(\"social_security\",topn=20)"
   ]
  },
  {
   "cell_type": "code",
   "execution_count": 80,
   "id": "b5a82baf",
   "metadata": {},
   "outputs": [
    {
     "name": "stdout",
     "output_type": "stream",
     "text": [
      "                                         V1        V2\n",
      "breach_involving                  -0.012723  0.015734\n",
      "consumer_affairs                   0.269479  0.456147\n",
      "massachusetts_office              -0.455890 -0.356401\n",
      "social_security                    0.353540  0.455176\n",
      "business_regulation_reported_data -0.234115 -0.182212\n",
      "...                                     ...       ...\n",
      "west                               0.323891  0.472847\n",
      "virginia                           0.355740  0.338816\n",
      "claims                             0.069566 -0.487928\n",
      "government                         0.233742 -0.026699\n",
      "numbers_financial                  0.321646  0.089676\n",
      "\n",
      "[803 rows x 2 columns]\n"
     ]
    }
   ],
   "source": [
    "# récupérer les données dans un data frame\n",
    "df = pd.DataFrame(words.vectors,columns=['V1','V2'],index=words.key_to_index.keys())\n",
    "print(df)"
   ]
  },
  {
   "cell_type": "code",
   "execution_count": 81,
   "id": "048be859",
   "metadata": {},
   "outputs": [
    {
     "name": "stdout",
     "output_type": "stream",
     "text": [
      "                              V1        V2\n",
      "breach_involving       -0.012723  0.015734\n",
      "social_security         0.353540  0.455176\n",
      "debit_numbers           0.404362 -0.346531\n",
      "numbers_ssns            0.084686  0.094502\n",
      "protected_health        0.470189  0.335217\n",
      "provided                0.311466 -0.074443\n",
      "involving_unauthorized  0.512732 -0.214852\n"
     ]
    }
   ],
   "source": [
    "#quelques mots clés\n",
    "mots = ['breach_involving','social_security','debit_numbers','numbers_ssns','protected_health','provided','involving_unauthorized']\n",
    "dfMots = df.loc[mots,:]\n",
    "print(dfMots)"
   ]
  },
  {
   "cell_type": "code",
   "execution_count": 82,
   "id": "bd4b78da",
   "metadata": {},
   "outputs": [
    {
     "name": "stderr",
     "output_type": "stream",
     "text": [
      "C:\\Users\\FranckOséeDOUNTIOZAB\\AppData\\Local\\Temp\\ipykernel_1640\\1880841890.py:5: FutureWarning: Series.__getitem__ treating keys as positions is deprecated. In a future version, integer keys will always be treated as labels (consistent with DataFrame behavior). To access a value by position, use `ser.iloc[pos]`\n",
      "  plt.annotate(dfMots.index[i],(dfMots.V1[i],dfMots.V2[i]))\n"
     ]
    },
    {
     "data": {
      "image/png": "[encoded data removed]",
      "text/plain": [
       "<Figure size 640x480 with 1 Axes>"
      ]
     },
     "metadata": {},
     "output_type": "display_data"
    }
   ],
   "source": [
    "#graphique dans le plan\n",
    "import matplotlib.pyplot as plt\n",
    "plt.scatter(dfMots.V1,dfMots.V2,s=0.5)\n",
    "for i in range(dfMots.shape[0]):\n",
    "    plt.annotate(dfMots.index[i],(dfMots.V1[i],dfMots.V2[i]))\n",
    "plt.show()"
   ]
  },
  {
   "cell_type": "markdown",
   "id": "b09b4ac7",
   "metadata": {},
   "source": [
    "#### Coordonnées des documents à partir des termes"
   ]
  },
  {
   "cell_type": "code",
   "execution_count": 83,
   "id": "f42a91d4",
   "metadata": {},
   "outputs": [],
   "source": [
    "#fonction pour transformer un document en vecteur\n",
    "#à partir des tokens qui le composent\n",
    "#entrée : doc à traiter\n",
    "#         modèle préentrainé\n",
    "#sortie : vecteur représentant le document\n",
    "def my_doc_2_vec(doc,trained):\n",
    "    #dimension de représentation\n",
    "    p = trained.vectors.shape[1]\n",
    "    #initialiser le vecteur\n",
    "    vec = np.zeros(p)\n",
    "    #nombre de tokens trouvés\n",
    "    nb = 0\n",
    "    #traitement de chaque token du document\n",
    "    for tk in doc:\n",
    "        #ne traiter que les tokens reconnus\n",
    "        try:\n",
    "            values = trained[tk]\n",
    "            vec = vec + values\n",
    "            nb = nb + 1.0\n",
    "        except:\n",
    "            pass\n",
    "    #faire la moyenne des valeurs\n",
    "    #uniquement si on a trové des tokens reconnus bien sûr\n",
    "    if (nb > 0.0):\n",
    "        vec = vec/nb\n",
    "    #renvoyer le vecteur\n",
    "    #si aucun token trouvé, on a un vecteur de valeurs nulles\n",
    "    return vec"
   ]
  },
  {
   "cell_type": "code",
   "execution_count": 84,
   "id": "7a674f8a",
   "metadata": {},
   "outputs": [
    {
     "name": "stdout",
     "output_type": "stream",
     "text": [
      "(100, 2)\n"
     ]
    }
   ],
   "source": [
    "#traiter les documents du corpus corpus\n",
    "docsVec = list()\n",
    "#pour chaque document du corpus nettoyé\n",
    "for doc in trigrams:\n",
    "    #calcul de son vecteur\n",
    "    vec = my_doc_2_vec(doc,words)\n",
    "    #ajouter dans la liste\n",
    "    docsVec.append(vec)\n",
    "#transformer en matrice numpy\n",
    "matVec = np.array(docsVec)\n",
    "print(matVec.shape)"
   ]
  },
  {
   "cell_type": "code",
   "execution_count": 85,
   "id": "ba67ebf0",
   "metadata": {},
   "outputs": [
    {
     "ename": "NameError",
     "evalue": "name 'D' is not defined",
     "output_type": "error",
     "traceback": [
      "\u001b[1;31m---------------------------------------------------------------------------\u001b[0m",
      "\u001b[1;31mNameError\u001b[0m                                 Traceback (most recent call last)",
      "Cell \u001b[1;32mIn[85], line 3\u001b[0m\n\u001b[0;32m      1\u001b[0m \u001b[38;5;66;03m#transformer en data frame\u001b[39;00m\n\u001b[0;32m      2\u001b[0m df2 \u001b[38;5;241m=\u001b[39m pd\u001b[38;5;241m.\u001b[39mDataFrame(matVec,columns\u001b[38;5;241m=\u001b[39m[\u001b[38;5;124m\"\u001b[39m\u001b[38;5;124mv\u001b[39m\u001b[38;5;124m\"\u001b[39m\u001b[38;5;241m+\u001b[39m\u001b[38;5;28mstr\u001b[39m(i\u001b[38;5;241m+\u001b[39m\u001b[38;5;241m1\u001b[39m) \u001b[38;5;28;01mfor\u001b[39;00m i \u001b[38;5;129;01min\u001b[39;00m \u001b[38;5;28mrange\u001b[39m(matVec\u001b[38;5;241m.\u001b[39mshape[\u001b[38;5;241m1\u001b[39m])])\n\u001b[1;32m----> 3\u001b[0m df2[\u001b[38;5;124m'\u001b[39m\u001b[38;5;124mlabel\u001b[39m\u001b[38;5;124m'\u001b[39m] \u001b[38;5;241m=\u001b[39m D\u001b[38;5;241m.\u001b[39mlabel\n\u001b[0;32m      4\u001b[0m df2\u001b[38;5;241m.\u001b[39mhead()\n",
      "\u001b[1;31mNameError\u001b[0m: name 'D' is not defined"
     ]
    }
   ],
   "source": [
    "#transformer en data frame\n",
    "df2 = pd.DataFrame(matVec,columns=[\"v\"+str(i+1) for i in range(matVec.shape[1])])\n",
    "df2['label'] = D.label\n",
    "df2.head()"
   ]
  },
  {
   "cell_type": "code",
   "execution_count": null,
   "id": "83b50801",
   "metadata": {},
   "outputs": [
    {
     "data": {
      "text/plain": [
       "<Axes: xlabel='v1', ylabel='v2'>"
      ]
     },
     "execution_count": 296,
     "metadata": {},
     "output_type": "execute_result"
    },
    {
     "data": {
      "image/png": "[encoded data removed]",
      "text/plain": [
       "<Figure size 640x480 with 1 Axes>"
      ]
     },
     "metadata": {},
     "output_type": "display_data"
    }
   ],
   "source": [
    "#refaire le graphique avec la polarité\n",
    "sns.scatterplot(data=df2,x='v1',y='v2',hue='label')"
   ]
  },
  {
   "cell_type": "code",
   "execution_count": null,
   "id": "ebbc5ea4",
   "metadata": {},
   "outputs": [
    {
     "name": "stdout",
     "output_type": "stream",
     "text": [
      "<class 'pandas.core.frame.DataFrame'>\n",
      "RangeIndex: 100 entries, 0 to 99\n",
      "Data columns (total 12 columns):\n",
      " #   Column                   Non-Null Count  Dtype  \n",
      "---  ------                   --------------  -----  \n",
      " 0   id                       100 non-null    object \n",
      " 1   organization_type        100 non-null    object \n",
      " 2   incident_details         100 non-null    object \n",
      " 3   breach_type              100 non-null    object \n",
      " 4   reported_date            100 non-null    object \n",
      " 5   breach_date              100 non-null    object \n",
      " 6   end_breach_date          100 non-null    object \n",
      " 7   total_affected           48 non-null     float64\n",
      " 8   residents_affected       100 non-null    object \n",
      " 9   breach_location_city     100 non-null    object \n",
      " 10  breach_location_state    100 non-null    object \n",
      " 11  breach_location_country  100 non-null    object \n",
      "dtypes: float64(1), object(11)\n",
      "memory usage: 9.5+ KB\n"
     ]
    }
   ],
   "source": [
    "df.info()"
   ]
  },
  {
   "cell_type": "markdown",
   "id": "86a9a16e",
   "metadata": {},
   "source": [
    "# Doc2Vec avec gensim"
   ]
  },
  {
   "cell_type": "code",
   "execution_count": null,
   "id": "6aaa142e",
   "metadata": {},
   "outputs": [],
   "source": [
    "# Réorganiser la base de données \n",
    "D = df3[['incident_details', 'total_affected']].copy()  # on extrait les colonnes utiles\n",
    "D['id'] = range(1, len(D) + 1)  # création de la colonne id de 1 à N\n",
    "\n",
    "# Définir un seuil K\n",
    "# Quantile 60%\n",
    "K = df['total_affected'].quantile(0.6)\n",
    "\n",
    "# Remplacer les valeurs manquantes (NaN) dans total_affected par 0 ou 1 aléatoirement\n",
    "D['total_affected'] = D['total_affected'].apply(\n",
    "    lambda x: x if pd.notnull(x) else np.random.choice(range(1, int(max(df['total_affected']))))\n",
    ")\n",
    "# Création de la variable label\n",
    "D['label'] = (D['total_affected'] > K).astype(int)  # 1 si > K, sinon 0\n",
    "\n",
    "# Remplacer les valeurs manquantes (NaN) dans total_affected par 0 ou 1 aléatoirement\n",
    "D['total_affected'] = D['total_affected'].apply(\n",
    "    lambda x: x if pd.notnull(x) else np.random.choice([0, 1])\n",
    ")"
   ]
  },
  {
   "cell_type": "code",
   "execution_count": null,
   "id": "edebd9b8",
   "metadata": {},
   "outputs": [
    {
     "data": {
      "text/html": [
       "<div>\n",
       "<style scoped>\n",
       "    .dataframe tbody tr th:only-of-type {\n",
       "        vertical-align: middle;\n",
       "    }\n",
       "\n",
       "    .dataframe tbody tr th {\n",
       "        vertical-align: top;\n",
       "    }\n",
       "\n",
       "    .dataframe thead th {\n",
       "        text-align: right;\n",
       "    }\n",
       "</style>\n",
       "<table border=\"1\" class=\"dataframe\">\n",
       "  <thead>\n",
       "    <tr style=\"text-align: right;\">\n",
       "      <th></th>\n",
       "      <th>id</th>\n",
       "      <th>incident_details</th>\n",
       "      <th>label</th>\n",
       "    </tr>\n",
       "  </thead>\n",
       "  <tbody>\n",
       "    <tr>\n",
       "      <th>0</th>\n",
       "      <td>1</td>\n",
       "      <td>The Indiana Office of the Attorney General rep...</td>\n",
       "      <td>1</td>\n",
       "    </tr>\n",
       "    <tr>\n",
       "      <th>1</th>\n",
       "      <td>2</td>\n",
       "      <td>On February 25, 2021, the Maryland Office of t...</td>\n",
       "      <td>0</td>\n",
       "    </tr>\n",
       "    <tr>\n",
       "      <th>2</th>\n",
       "      <td>3</td>\n",
       "      <td>The California Office of the Attorney General ...</td>\n",
       "      <td>1</td>\n",
       "    </tr>\n",
       "    <tr>\n",
       "      <th>3</th>\n",
       "      <td>4</td>\n",
       "      <td>On October 9, 2018, the Minnesota Department o...</td>\n",
       "      <td>1</td>\n",
       "    </tr>\n",
       "    <tr>\n",
       "      <th>4</th>\n",
       "      <td>5</td>\n",
       "      <td>The Montana Department of Justice reported on ...</td>\n",
       "      <td>1</td>\n",
       "    </tr>\n",
       "    <tr>\n",
       "      <th>...</th>\n",
       "      <td>...</td>\n",
       "      <td>...</td>\n",
       "      <td>...</td>\n",
       "    </tr>\n",
       "    <tr>\n",
       "      <th>95</th>\n",
       "      <td>96</td>\n",
       "      <td>The Montana Department of Justice reported a d...</td>\n",
       "      <td>1</td>\n",
       "    </tr>\n",
       "    <tr>\n",
       "      <th>96</th>\n",
       "      <td>97</td>\n",
       "      <td>The California Office of the Attorney General ...</td>\n",
       "      <td>1</td>\n",
       "    </tr>\n",
       "    <tr>\n",
       "      <th>97</th>\n",
       "      <td>98</td>\n",
       "      <td>The California Office of the Attorney General ...</td>\n",
       "      <td>1</td>\n",
       "    </tr>\n",
       "    <tr>\n",
       "      <th>98</th>\n",
       "      <td>99</td>\n",
       "      <td>The Maine Office of the Attorney General repor...</td>\n",
       "      <td>1</td>\n",
       "    </tr>\n",
       "    <tr>\n",
       "      <th>99</th>\n",
       "      <td>100</td>\n",
       "      <td>The U.S. Department of Health and Human Servic...</td>\n",
       "      <td>0</td>\n",
       "    </tr>\n",
       "  </tbody>\n",
       "</table>\n",
       "<p>100 rows × 3 columns</p>\n",
       "</div>"
      ],
      "text/plain": [
       "     id                                   incident_details  label\n",
       "0     1  The Indiana Office of the Attorney General rep...      1\n",
       "1     2  On February 25, 2021, the Maryland Office of t...      0\n",
       "2     3  The California Office of the Attorney General ...      1\n",
       "3     4  On October 9, 2018, the Minnesota Department o...      1\n",
       "4     5  The Montana Department of Justice reported on ...      1\n",
       "..  ...                                                ...    ...\n",
       "95   96  The Montana Department of Justice reported a d...      1\n",
       "96   97  The California Office of the Attorney General ...      1\n",
       "97   98  The California Office of the Attorney General ...      1\n",
       "98   99  The Maine Office of the Attorney General repor...      1\n",
       "99  100  The U.S. Department of Health and Human Servic...      0\n",
       "\n",
       "[100 rows x 3 columns]"
      ]
     },
     "execution_count": 301,
     "metadata": {},
     "output_type": "execute_result"
    }
   ],
   "source": [
    "# Réorganiser les colonnes \n",
    "D = D[['id', 'incident_details', 'label']]\n",
    "\n",
    "# Affichage\n",
    "D"
   ]
  },
  {
   "cell_type": "code",
   "execution_count": null,
   "id": "c66753ec",
   "metadata": {},
   "outputs": [
    {
     "name": "stdout",
     "output_type": "stream",
     "text": [
      "TaggedDocument<['indiana_office', 'attorney_general_reported', 'des', 'moines', 'area', 'community_college', 'experienced_data_breach_affecting', 'total', '1,976', 'individuals', '11', 'residents_indiana', 'breach_notification', 'reported'], ['d1']>\n"
     ]
    }
   ],
   "source": [
    "#tagger les documents avec leur identifiant\n",
    "from gensim.models.doc2vec import TaggedDocument\n",
    "tagged_docs = [TaggedDocument(words=trigrams[i],tags=[\"d\"+str(D.id[i])]) for i in range(len(trigrams))]\n",
    "\n",
    "#premier doc par ex.\n",
    "print(tagged_docs[0])"
   ]
  },
  {
   "cell_type": "code",
   "execution_count": null,
   "id": "add93b51",
   "metadata": {},
   "outputs": [
    {
     "data": {
      "text/plain": [
       "TaggedDocument(words=['maryland_office', 'attorney_general_reported_data', 'breach_involving', 'wms', 'partners', 'llc', 'occurred_due', 'phishing', 'breach_affected', '383', 'maryland_residents', 'potentially_compromising', 'personal_information', 'names', 'physical', 'addresses', 'account_numbers', 'last', 'four', 'digits', 'social_security', 'numbers', 'dates_birth', 'driver_’', 'license_numbers'], tags=['d2'])"
      ]
     },
     "execution_count": 303,
     "metadata": {},
     "output_type": "execute_result"
    }
   ],
   "source": [
    "tagged_docs[1]"
   ]
  },
  {
   "cell_type": "code",
   "execution_count": null,
   "id": "8db2d64c",
   "metadata": {},
   "outputs": [],
   "source": [
    "#doc2vec\n",
    "from gensim.models.doc2vec import Doc2Vec\n",
    "modeleDoc = Doc2Vec(vector_size=2,min_count=1,window=5)\n",
    "\n",
    "#construction de dictionnaire dans un premier temps\n",
    "modeleDoc.build_vocab(tagged_docs)"
   ]
  },
  {
   "cell_type": "code",
   "execution_count": null,
   "id": "58c76b1e",
   "metadata": {},
   "outputs": [],
   "source": []
  },
  {
   "cell_type": "code",
   "execution_count": null,
   "id": "02455a90",
   "metadata": {},
   "outputs": [
    {
     "data": {
      "text/html": [
       "<div>\n",
       "<style scoped>\n",
       "    .dataframe tbody tr th:only-of-type {\n",
       "        vertical-align: middle;\n",
       "    }\n",
       "\n",
       "    .dataframe tbody tr th {\n",
       "        vertical-align: top;\n",
       "    }\n",
       "\n",
       "    .dataframe thead th {\n",
       "        text-align: right;\n",
       "    }\n",
       "</style>\n",
       "<table border=\"1\" class=\"dataframe\">\n",
       "  <thead>\n",
       "    <tr style=\"text-align: right;\">\n",
       "      <th></th>\n",
       "      <th>V1</th>\n",
       "      <th>V2</th>\n",
       "    </tr>\n",
       "  </thead>\n",
       "  <tbody>\n",
       "    <tr>\n",
       "      <th>breach_involving</th>\n",
       "      <td>-0.026811</td>\n",
       "      <td>0.011822</td>\n",
       "    </tr>\n",
       "    <tr>\n",
       "      <th>consumer_affairs</th>\n",
       "      <td>0.255167</td>\n",
       "      <td>0.450464</td>\n",
       "    </tr>\n",
       "    <tr>\n",
       "      <th>massachusetts_office</th>\n",
       "      <td>-0.465147</td>\n",
       "      <td>-0.355840</td>\n",
       "    </tr>\n",
       "    <tr>\n",
       "      <th>social_security</th>\n",
       "      <td>0.322944</td>\n",
       "      <td>0.448649</td>\n",
       "    </tr>\n",
       "    <tr>\n",
       "      <th>business_regulation_reported_data</th>\n",
       "      <td>-0.250771</td>\n",
       "      <td>-0.188169</td>\n",
       "    </tr>\n",
       "    <tr>\n",
       "      <th>...</th>\n",
       "      <td>...</td>\n",
       "      <td>...</td>\n",
       "    </tr>\n",
       "    <tr>\n",
       "      <th>west</th>\n",
       "      <td>0.320888</td>\n",
       "      <td>0.471904</td>\n",
       "    </tr>\n",
       "    <tr>\n",
       "      <th>virginia</th>\n",
       "      <td>0.352764</td>\n",
       "      <td>0.337748</td>\n",
       "    </tr>\n",
       "    <tr>\n",
       "      <th>claims</th>\n",
       "      <td>0.065008</td>\n",
       "      <td>-0.490215</td>\n",
       "    </tr>\n",
       "    <tr>\n",
       "      <th>government</th>\n",
       "      <td>0.229388</td>\n",
       "      <td>-0.026911</td>\n",
       "    </tr>\n",
       "    <tr>\n",
       "      <th>numbers_financial</th>\n",
       "      <td>0.316605</td>\n",
       "      <td>0.089174</td>\n",
       "    </tr>\n",
       "  </tbody>\n",
       "</table>\n",
       "<p>803 rows × 2 columns</p>\n",
       "</div>"
      ],
      "text/plain": [
       "                                         V1        V2\n",
       "breach_involving                  -0.026811  0.011822\n",
       "consumer_affairs                   0.255167  0.450464\n",
       "massachusetts_office              -0.465147 -0.355840\n",
       "social_security                    0.322944  0.448649\n",
       "business_regulation_reported_data -0.250771 -0.188169\n",
       "...                                     ...       ...\n",
       "west                               0.320888  0.471904\n",
       "virginia                           0.352764  0.337748\n",
       "claims                             0.065008 -0.490215\n",
       "government                         0.229388 -0.026911\n",
       "numbers_financial                  0.316605  0.089174\n",
       "\n",
       "[803 rows x 2 columns]"
      ]
     },
     "execution_count": 306,
     "metadata": {},
     "output_type": "execute_result"
    }
   ],
   "source": [
    "#coordonnées des termes - comme avec doc2vec\n",
    "pd.DataFrame(modeleDoc.wv.vectors,columns=['V1','V2'],index=modeleDoc.wv.key_to_index.keys())"
   ]
  },
  {
   "cell_type": "code",
   "execution_count": null,
   "id": "5b50a159",
   "metadata": {},
   "outputs": [
    {
     "name": "stdout",
     "output_type": "stream",
     "text": [
      "KeyedVectors<vector_size=2, 100 keys>\n"
     ]
    }
   ],
   "source": [
    "#modélisation pour le positionnement des documents\n",
    "modeleDoc.train(tagged_docs,total_examples=modeleDoc.corpus_count,epochs=100)\n",
    "print(modeleDoc.dv)"
   ]
  },
  {
   "cell_type": "code",
   "execution_count": null,
   "id": "6ad8debb",
   "metadata": {},
   "outputs": [
    {
     "name": "stdout",
     "output_type": "stream",
     "text": [
      "{'d1': 0, 'd2': 1, 'd3': 2, 'd4': 3, 'd5': 4, 'd6': 5, 'd7': 6, 'd8': 7, 'd9': 8, 'd10': 9, 'd11': 10, 'd12': 11, 'd13': 12, 'd14': 13, 'd15': 14, 'd16': 15, 'd17': 16, 'd18': 17, 'd19': 18, 'd20': 19, 'd21': 20, 'd22': 21, 'd23': 22, 'd24': 23, 'd25': 24, 'd26': 25, 'd27': 26, 'd28': 27, 'd29': 28, 'd30': 29, 'd31': 30, 'd32': 31, 'd33': 32, 'd34': 33, 'd35': 34, 'd36': 35, 'd37': 36, 'd38': 37, 'd39': 38, 'd40': 39, 'd41': 40, 'd42': 41, 'd43': 42, 'd44': 43, 'd45': 44, 'd46': 45, 'd47': 46, 'd48': 47, 'd49': 48, 'd50': 49, 'd51': 50, 'd52': 51, 'd53': 52, 'd54': 53, 'd55': 54, 'd56': 55, 'd57': 56, 'd58': 57, 'd59': 58, 'd60': 59, 'd61': 60, 'd62': 61, 'd63': 62, 'd64': 63, 'd65': 64, 'd66': 65, 'd67': 66, 'd68': 67, 'd69': 68, 'd70': 69, 'd71': 70, 'd72': 71, 'd73': 72, 'd74': 73, 'd75': 74, 'd76': 75, 'd77': 76, 'd78': 77, 'd79': 78, 'd80': 79, 'd81': 80, 'd82': 81, 'd83': 82, 'd84': 83, 'd85': 84, 'd86': 85, 'd87': 86, 'd88': 87, 'd89': 88, 'd90': 89, 'd91': 90, 'd92': 91, 'd93': 92, 'd94': 93, 'd95': 94, 'd96': 95, 'd97': 96, 'd98': 97, 'd99': 98, 'd100': 99}\n"
     ]
    }
   ],
   "source": [
    "#coordonnées des documents\n",
    "print(modeleDoc.dv.key_to_index)"
   ]
  },
  {
   "cell_type": "code",
   "execution_count": null,
   "id": "742d8904",
   "metadata": {},
   "outputs": [
    {
     "name": "stdout",
     "output_type": "stream",
     "text": [
      "          X1        X2\n",
      "0   0.648915 -2.929711\n",
      "1   1.466017 -1.769099\n",
      "2   1.799427 -2.023257\n",
      "3   2.455747 -3.107562\n",
      "4   1.311184 -1.557100\n",
      "..       ...       ...\n",
      "95  1.654263 -1.783042\n",
      "96  3.446244 -1.153967\n",
      "97  0.666839 -2.036388\n",
      "98  1.841621 -1.304346\n",
      "99  2.465158 -0.847800\n",
      "\n",
      "[100 rows x 2 columns]\n"
     ]
    }
   ],
   "source": [
    "#data frame avec les coordonnées\n",
    "dfDoc2Vec = pd.DataFrame(modeleDoc.dv.vectors,columns=['X1','X2'])\n",
    "print(dfDoc2Vec)"
   ]
  },
  {
   "cell_type": "code",
   "execution_count": null,
   "id": "f83e16cf",
   "metadata": {},
   "outputs": [
    {
     "data": {
      "text/plain": [
       "<Axes: xlabel='X1', ylabel='X2'>"
      ]
     },
     "execution_count": 219,
     "metadata": {},
     "output_type": "execute_result"
    },
    {
     "data": {
      "image/png": "[encoded data removed]",
      "text/plain": [
       "<Figure size 640x480 with 1 Axes>"
      ]
     },
     "metadata": {},
     "output_type": "display_data"
    }
   ],
   "source": [
    "#graphique\n",
    "import seaborn as sns\n",
    "sns.scatterplot(data=dfDoc2Vec,x='X1',y='X2')"
   ]
  },
  {
   "cell_type": "code",
   "execution_count": null,
   "id": "fc57f51f",
   "metadata": {},
   "outputs": [
    {
     "data": {
      "text/html": [
       "<div>\n",
       "<style scoped>\n",
       "    .dataframe tbody tr th:only-of-type {\n",
       "        vertical-align: middle;\n",
       "    }\n",
       "\n",
       "    .dataframe tbody tr th {\n",
       "        vertical-align: top;\n",
       "    }\n",
       "\n",
       "    .dataframe thead th {\n",
       "        text-align: right;\n",
       "    }\n",
       "</style>\n",
       "<table border=\"1\" class=\"dataframe\">\n",
       "  <thead>\n",
       "    <tr style=\"text-align: right;\">\n",
       "      <th></th>\n",
       "      <th>X1</th>\n",
       "      <th>X2</th>\n",
       "      <th>polarite</th>\n",
       "    </tr>\n",
       "  </thead>\n",
       "  <tbody>\n",
       "    <tr>\n",
       "      <th>0</th>\n",
       "      <td>0.648915</td>\n",
       "      <td>-2.929711</td>\n",
       "      <td>1</td>\n",
       "    </tr>\n",
       "    <tr>\n",
       "      <th>1</th>\n",
       "      <td>1.466017</td>\n",
       "      <td>-1.769099</td>\n",
       "      <td>0</td>\n",
       "    </tr>\n",
       "    <tr>\n",
       "      <th>2</th>\n",
       "      <td>1.799427</td>\n",
       "      <td>-2.023257</td>\n",
       "      <td>1</td>\n",
       "    </tr>\n",
       "    <tr>\n",
       "      <th>3</th>\n",
       "      <td>2.455747</td>\n",
       "      <td>-3.107562</td>\n",
       "      <td>1</td>\n",
       "    </tr>\n",
       "    <tr>\n",
       "      <th>4</th>\n",
       "      <td>1.311184</td>\n",
       "      <td>-1.557100</td>\n",
       "      <td>1</td>\n",
       "    </tr>\n",
       "    <tr>\n",
       "      <th>...</th>\n",
       "      <td>...</td>\n",
       "      <td>...</td>\n",
       "      <td>...</td>\n",
       "    </tr>\n",
       "    <tr>\n",
       "      <th>95</th>\n",
       "      <td>1.654263</td>\n",
       "      <td>-1.783042</td>\n",
       "      <td>1</td>\n",
       "    </tr>\n",
       "    <tr>\n",
       "      <th>96</th>\n",
       "      <td>3.446244</td>\n",
       "      <td>-1.153967</td>\n",
       "      <td>1</td>\n",
       "    </tr>\n",
       "    <tr>\n",
       "      <th>97</th>\n",
       "      <td>0.666839</td>\n",
       "      <td>-2.036388</td>\n",
       "      <td>1</td>\n",
       "    </tr>\n",
       "    <tr>\n",
       "      <th>98</th>\n",
       "      <td>1.841621</td>\n",
       "      <td>-1.304346</td>\n",
       "      <td>1</td>\n",
       "    </tr>\n",
       "    <tr>\n",
       "      <th>99</th>\n",
       "      <td>2.465158</td>\n",
       "      <td>-0.847800</td>\n",
       "      <td>0</td>\n",
       "    </tr>\n",
       "  </tbody>\n",
       "</table>\n",
       "<p>100 rows × 3 columns</p>\n",
       "</div>"
      ],
      "text/plain": [
       "          X1        X2  polarite\n",
       "0   0.648915 -2.929711         1\n",
       "1   1.466017 -1.769099         0\n",
       "2   1.799427 -2.023257         1\n",
       "3   2.455747 -3.107562         1\n",
       "4   1.311184 -1.557100         1\n",
       "..       ...       ...       ...\n",
       "95  1.654263 -1.783042         1\n",
       "96  3.446244 -1.153967         1\n",
       "97  0.666839 -2.036388         1\n",
       "98  1.841621 -1.304346         1\n",
       "99  2.465158 -0.847800         0\n",
       "\n",
       "[100 rows x 3 columns]"
      ]
     },
     "execution_count": 232,
     "metadata": {},
     "output_type": "execute_result"
    }
   ],
   "source": [
    "dfDoc2Vec"
   ]
  },
  {
   "cell_type": "code",
   "execution_count": null,
   "id": "f42774c5",
   "metadata": {},
   "outputs": [
    {
     "data": {
      "text/plain": [
       "<Axes: xlabel='X1', ylabel='X2'>"
      ]
     },
     "execution_count": 220,
     "metadata": {},
     "output_type": "execute_result"
    },
    {
     "data": {
      "image/png": "[encoded data removed]",
      "text/plain": [
       "<Figure size 640x480 with 1 Axes>"
      ]
     },
     "metadata": {},
     "output_type": "display_data"
    }
   ],
   "source": [
    "#ajouter la polarité\n",
    "dfDoc2Vec['polarite'] = D.label\n",
    "\n",
    "#refaire le graphique avec la polarité\n",
    "sns.scatterplot(data=dfDoc2Vec,x='X1',y='X2',hue='polarite')"
   ]
  },
  {
   "cell_type": "markdown",
   "id": "eb5a564b",
   "metadata": {},
   "source": [
    "### Prédiction et évaluation en test"
   ]
  },
  {
   "cell_type": "markdown",
   "id": "1ea671f6",
   "metadata": {},
   "source": [
    "##### Résultat  avec le modèle de vectorisation Word2vec"
   ]
  },
  {
   "cell_type": "markdown",
   "id": "c2893d8a",
   "metadata": {},
   "source": [
    "Il sera important tout d'abord important de subdiviser notre base de données en deux échantillons (Tran, Test) avant d'entraitner le modèle Word2vec.\n",
    "\n",
    "C'est sur cette bases d'entrainement que sera calibrer notre perceptron multicouche et par la suite l'échantillon de test sera vectorisé et tester sur le perceptron\n",
    "\n",
    "Ici nous N'observons pas cette démarche et splitons la base entière qui a été vectorisée dès le debut à savour la base : "
   ]
  },
  {
   "cell_type": "code",
   "execution_count": null,
   "id": "0282deaf",
   "metadata": {},
   "outputs": [
    {
     "data": {
      "text/html": [
       "<div>\n",
       "<style scoped>\n",
       "    .dataframe tbody tr th:only-of-type {\n",
       "        vertical-align: middle;\n",
       "    }\n",
       "\n",
       "    .dataframe tbody tr th {\n",
       "        vertical-align: top;\n",
       "    }\n",
       "\n",
       "    .dataframe thead th {\n",
       "        text-align: right;\n",
       "    }\n",
       "</style>\n",
       "<table border=\"1\" class=\"dataframe\">\n",
       "  <thead>\n",
       "    <tr style=\"text-align: right;\">\n",
       "      <th></th>\n",
       "      <th>v1</th>\n",
       "      <th>v2</th>\n",
       "      <th>label</th>\n",
       "    </tr>\n",
       "  </thead>\n",
       "  <tbody>\n",
       "    <tr>\n",
       "      <th>0</th>\n",
       "      <td>-0.043817</td>\n",
       "      <td>-0.143127</td>\n",
       "      <td>1</td>\n",
       "    </tr>\n",
       "    <tr>\n",
       "      <th>1</th>\n",
       "      <td>0.024397</td>\n",
       "      <td>-0.102080</td>\n",
       "      <td>0</td>\n",
       "    </tr>\n",
       "    <tr>\n",
       "      <th>2</th>\n",
       "      <td>-0.016043</td>\n",
       "      <td>0.056789</td>\n",
       "      <td>1</td>\n",
       "    </tr>\n",
       "    <tr>\n",
       "      <th>3</th>\n",
       "      <td>0.025773</td>\n",
       "      <td>0.002279</td>\n",
       "      <td>1</td>\n",
       "    </tr>\n",
       "    <tr>\n",
       "      <th>4</th>\n",
       "      <td>0.071744</td>\n",
       "      <td>-0.055290</td>\n",
       "      <td>1</td>\n",
       "    </tr>\n",
       "    <tr>\n",
       "      <th>...</th>\n",
       "      <td>...</td>\n",
       "      <td>...</td>\n",
       "      <td>...</td>\n",
       "    </tr>\n",
       "    <tr>\n",
       "      <th>95</th>\n",
       "      <td>0.049475</td>\n",
       "      <td>0.021046</td>\n",
       "      <td>1</td>\n",
       "    </tr>\n",
       "    <tr>\n",
       "      <th>96</th>\n",
       "      <td>-0.008186</td>\n",
       "      <td>0.044711</td>\n",
       "      <td>1</td>\n",
       "    </tr>\n",
       "    <tr>\n",
       "      <th>97</th>\n",
       "      <td>0.024467</td>\n",
       "      <td>0.009160</td>\n",
       "      <td>1</td>\n",
       "    </tr>\n",
       "    <tr>\n",
       "      <th>98</th>\n",
       "      <td>-0.005413</td>\n",
       "      <td>0.059268</td>\n",
       "      <td>1</td>\n",
       "    </tr>\n",
       "    <tr>\n",
       "      <th>99</th>\n",
       "      <td>0.138536</td>\n",
       "      <td>-0.102129</td>\n",
       "      <td>0</td>\n",
       "    </tr>\n",
       "  </tbody>\n",
       "</table>\n",
       "<p>100 rows × 3 columns</p>\n",
       "</div>"
      ],
      "text/plain": [
       "          v1        v2  label\n",
       "0  -0.043817 -0.143127      1\n",
       "1   0.024397 -0.102080      0\n",
       "2  -0.016043  0.056789      1\n",
       "3   0.025773  0.002279      1\n",
       "4   0.071744 -0.055290      1\n",
       "..       ...       ...    ...\n",
       "95  0.049475  0.021046      1\n",
       "96 -0.008186  0.044711      1\n",
       "97  0.024467  0.009160      1\n",
       "98 -0.005413  0.059268      1\n",
       "99  0.138536 -0.102129      0\n",
       "\n",
       "[100 rows x 3 columns]"
      ]
     },
     "execution_count": 234,
     "metadata": {},
     "output_type": "execute_result"
    }
   ],
   "source": [
    "df2"
   ]
  },
  {
   "cell_type": "code",
   "execution_count": null,
   "id": "d25e65ae",
   "metadata": {},
   "outputs": [
    {
     "name": "stderr",
     "output_type": "stream",
     "text": [
      "c:\\Users\\FranckOséeDOUNTIOZAB\\anaconda3\\Lib\\site-packages\\keras\\src\\layers\\core\\dense.py:93: UserWarning: Do not pass an `input_shape`/`input_dim` argument to a layer. When using Sequential models, prefer using an `Input(shape)` object as the first layer in the model instead.\n",
      "  super().__init__(activity_regularizer=activity_regularizer, **kwargs)\n"
     ]
    },
    {
     "name": "stdout",
     "output_type": "stream",
     "text": [
      "\u001b[1m1/1\u001b[0m \u001b[32m━━━━━━━━━━━━━━━━━━━━\u001b[0m\u001b[37m\u001b[0m \u001b[1m0s\u001b[0m 80ms/step\n",
      "✅ Accuracy: 0.7500\n",
      "✅ F1-score: 0.8571\n",
      "\n",
      "📊 Rapport complet :\n",
      "\n",
      "              precision    recall  f1-score   support\n",
      "\n",
      "           0       0.00      0.00      0.00         5\n",
      "           1       0.75      1.00      0.86        15\n",
      "\n",
      "    accuracy                           0.75        20\n",
      "   macro avg       0.38      0.50      0.43        20\n",
      "weighted avg       0.56      0.75      0.64        20\n",
      "\n"
     ]
    },
    {
     "name": "stderr",
     "output_type": "stream",
     "text": [
      "c:\\Users\\FranckOséeDOUNTIOZAB\\anaconda3\\Lib\\site-packages\\sklearn\\metrics\\_classification.py:1531: UndefinedMetricWarning: Precision is ill-defined and being set to 0.0 in labels with no predicted samples. Use `zero_division` parameter to control this behavior.\n",
      "  _warn_prf(average, modifier, f\"{metric.capitalize()} is\", len(result))\n",
      "c:\\Users\\FranckOséeDOUNTIOZAB\\anaconda3\\Lib\\site-packages\\sklearn\\metrics\\_classification.py:1531: UndefinedMetricWarning: Precision is ill-defined and being set to 0.0 in labels with no predicted samples. Use `zero_division` parameter to control this behavior.\n",
      "  _warn_prf(average, modifier, f\"{metric.capitalize()} is\", len(result))\n",
      "c:\\Users\\FranckOséeDOUNTIOZAB\\anaconda3\\Lib\\site-packages\\sklearn\\metrics\\_classification.py:1531: UndefinedMetricWarning: Precision is ill-defined and being set to 0.0 in labels with no predicted samples. Use `zero_division` parameter to control this behavior.\n",
      "  _warn_prf(average, modifier, f\"{metric.capitalize()} is\", len(result))\n"
     ]
    },
    {
     "data": {
      "image/png": "[encoded data removed]",
      "text/plain": [
       "<Figure size 640x480 with 2 Axes>"
      ]
     },
     "metadata": {},
     "output_type": "display_data"
    }
   ],
   "source": [
    "# Tratement de données \n",
    "X = df2[['v1', 'v2']].values\n",
    "y = df2['label'].values\n",
    "\n",
    "# 2. Séparation train/test\n",
    "X_train, X_test, y_train, y_test = train_test_split(X, y, test_size=0.2, random_state=42)\n",
    "\n",
    "# 3. Modèle MLP\n",
    "model = Sequential()\n",
    "model.add(Dense(10, input_dim=2, activation='relu'))\n",
    "model.add(Dense(1, activation='sigmoid'))\n",
    "\n",
    "# 4. Compilation\n",
    "model.compile(optimizer=Adam(learning_rate=0.01), loss='binary_crossentropy', metrics=['accuracy'])\n",
    "\n",
    "# 5. Entraînement\n",
    "history = model.fit(X_train, y_train, epochs=100, batch_size=8, verbose=0, validation_data=(X_test, y_test))\n",
    "\n",
    "# 6. Prédiction\n",
    "y_pred_prob = model.predict(X_test)\n",
    "y_pred = (y_pred_prob > 0.5).astype(int)\n",
    "\n",
    "# 7. Évaluation\n",
    "accuracy = accuracy_score(y_test, y_pred)\n",
    "f1 = f1_score(y_test, y_pred)\n",
    "\n",
    "print(f\"✅ Accuracy: {accuracy:.4f}\")\n",
    "print(f\"✅ F1-score: {f1:.4f}\")\n",
    "print(\"\\n📊 Rapport complet :\\n\")\n",
    "print(classification_report(y_test, y_pred))\n",
    "\n",
    "# 8. Matrice de confusion\n",
    "cm = confusion_matrix(y_test, y_pred)\n",
    "sns.heatmap(cm, annot=True, fmt='d', cmap='Blues', xticklabels=[0,1], yticklabels=[0,1])\n",
    "plt.xlabel('Prédit')\n",
    "plt.ylabel('Réel')\n",
    "plt.title('Matrice de confusion')\n",
    "plt.show()"
   ]
  },
  {
   "cell_type": "markdown",
   "id": "13a1f9b8",
   "metadata": {},
   "source": [
    "##### Résultat  avec le modèle de vectorisation Doc2vec\n"
   ]
  },
  {
   "cell_type": "code",
   "execution_count": null,
   "id": "05505eb8",
   "metadata": {},
   "outputs": [
    {
     "data": {
      "text/html": [
       "<div>\n",
       "<style scoped>\n",
       "    .dataframe tbody tr th:only-of-type {\n",
       "        vertical-align: middle;\n",
       "    }\n",
       "\n",
       "    .dataframe tbody tr th {\n",
       "        vertical-align: top;\n",
       "    }\n",
       "\n",
       "    .dataframe thead th {\n",
       "        text-align: right;\n",
       "    }\n",
       "</style>\n",
       "<table border=\"1\" class=\"dataframe\">\n",
       "  <thead>\n",
       "    <tr style=\"text-align: right;\">\n",
       "      <th></th>\n",
       "      <th>X1</th>\n",
       "      <th>X2</th>\n",
       "      <th>polarite</th>\n",
       "    </tr>\n",
       "  </thead>\n",
       "  <tbody>\n",
       "    <tr>\n",
       "      <th>0</th>\n",
       "      <td>0.648915</td>\n",
       "      <td>-2.929711</td>\n",
       "      <td>1</td>\n",
       "    </tr>\n",
       "    <tr>\n",
       "      <th>1</th>\n",
       "      <td>1.466017</td>\n",
       "      <td>-1.769099</td>\n",
       "      <td>0</td>\n",
       "    </tr>\n",
       "    <tr>\n",
       "      <th>2</th>\n",
       "      <td>1.799427</td>\n",
       "      <td>-2.023257</td>\n",
       "      <td>1</td>\n",
       "    </tr>\n",
       "    <tr>\n",
       "      <th>3</th>\n",
       "      <td>2.455747</td>\n",
       "      <td>-3.107562</td>\n",
       "      <td>1</td>\n",
       "    </tr>\n",
       "    <tr>\n",
       "      <th>4</th>\n",
       "      <td>1.311184</td>\n",
       "      <td>-1.557100</td>\n",
       "      <td>1</td>\n",
       "    </tr>\n",
       "    <tr>\n",
       "      <th>...</th>\n",
       "      <td>...</td>\n",
       "      <td>...</td>\n",
       "      <td>...</td>\n",
       "    </tr>\n",
       "    <tr>\n",
       "      <th>95</th>\n",
       "      <td>1.654263</td>\n",
       "      <td>-1.783042</td>\n",
       "      <td>1</td>\n",
       "    </tr>\n",
       "    <tr>\n",
       "      <th>96</th>\n",
       "      <td>3.446244</td>\n",
       "      <td>-1.153967</td>\n",
       "      <td>1</td>\n",
       "    </tr>\n",
       "    <tr>\n",
       "      <th>97</th>\n",
       "      <td>0.666839</td>\n",
       "      <td>-2.036388</td>\n",
       "      <td>1</td>\n",
       "    </tr>\n",
       "    <tr>\n",
       "      <th>98</th>\n",
       "      <td>1.841621</td>\n",
       "      <td>-1.304346</td>\n",
       "      <td>1</td>\n",
       "    </tr>\n",
       "    <tr>\n",
       "      <th>99</th>\n",
       "      <td>2.465158</td>\n",
       "      <td>-0.847800</td>\n",
       "      <td>0</td>\n",
       "    </tr>\n",
       "  </tbody>\n",
       "</table>\n",
       "<p>100 rows × 3 columns</p>\n",
       "</div>"
      ],
      "text/plain": [
       "          X1        X2  polarite\n",
       "0   0.648915 -2.929711         1\n",
       "1   1.466017 -1.769099         0\n",
       "2   1.799427 -2.023257         1\n",
       "3   2.455747 -3.107562         1\n",
       "4   1.311184 -1.557100         1\n",
       "..       ...       ...       ...\n",
       "95  1.654263 -1.783042         1\n",
       "96  3.446244 -1.153967         1\n",
       "97  0.666839 -2.036388         1\n",
       "98  1.841621 -1.304346         1\n",
       "99  2.465158 -0.847800         0\n",
       "\n",
       "[100 rows x 3 columns]"
      ]
     },
     "execution_count": 243,
     "metadata": {},
     "output_type": "execute_result"
    }
   ],
   "source": [
    "dfDoc2Vec"
   ]
  },
  {
   "cell_type": "code",
   "execution_count": null,
   "id": "ef5b5cff",
   "metadata": {},
   "outputs": [
    {
     "name": "stderr",
     "output_type": "stream",
     "text": [
      "c:\\Users\\FranckOséeDOUNTIOZAB\\anaconda3\\Lib\\site-packages\\keras\\src\\layers\\core\\dense.py:93: UserWarning: Do not pass an `input_shape`/`input_dim` argument to a layer. When using Sequential models, prefer using an `Input(shape)` object as the first layer in the model instead.\n",
      "  super().__init__(activity_regularizer=activity_regularizer, **kwargs)\n"
     ]
    },
    {
     "name": "stdout",
     "output_type": "stream",
     "text": [
      "\u001b[1m1/1\u001b[0m \u001b[32m━━━━━━━━━━━━━━━━━━━━\u001b[0m\u001b[37m\u001b[0m \u001b[1m0s\u001b[0m 84ms/step\n",
      "✅ Accuracy: 0.7500\n",
      "✅ F1-score: 0.8485\n",
      "\n",
      "📊 Rapport complet :\n",
      "\n",
      "              precision    recall  f1-score   support\n",
      "\n",
      "           0       0.50      0.20      0.29         5\n",
      "           1       0.78      0.93      0.85        15\n",
      "\n",
      "    accuracy                           0.75        20\n",
      "   macro avg       0.64      0.57      0.57        20\n",
      "weighted avg       0.71      0.75      0.71        20\n",
      "\n"
     ]
    },
    {
     "data": {
      "image/png": "[encoded data removed]",
      "text/plain": [
       "<Figure size 640x480 with 2 Axes>"
      ]
     },
     "metadata": {},
     "output_type": "display_data"
    }
   ],
   "source": [
    "# Tratement de données \n",
    "X = dfDoc2Vec[['X1', 'X2']].values\n",
    "y = dfDoc2Vec['polarite'].values\n",
    "\n",
    "# 2. Séparation train/test\n",
    "X_train, X_test, y_train, y_test = train_test_split(X, y, test_size=0.2, random_state=42)\n",
    "\n",
    "# 3. Modèle MLP\n",
    "model = Sequential()\n",
    "model.add(Dense(10, input_dim=2, activation='relu'))\n",
    "model.add(Dense(1, activation='sigmoid'))\n",
    "\n",
    "# 4. Compilation\n",
    "model.compile(optimizer=Adam(learning_rate=0.01), loss='binary_crossentropy', metrics=['accuracy'])\n",
    "\n",
    "# 5. Entraînement\n",
    "history = model.fit(X_train, y_train, epochs=100, batch_size=8, verbose=0, validation_data=(X_test, y_test))\n",
    "\n",
    "# 6. Prédiction\n",
    "y_pred_prob = model.predict(X_test)\n",
    "y_pred = (y_pred_prob > 0.5).astype(int)\n",
    "\n",
    "# 7. Évaluation\n",
    "accuracy = accuracy_score(y_test, y_pred)\n",
    "f1 = f1_score(y_test, y_pred)\n",
    "\n",
    "print(f\"✅ Accuracy: {accuracy:.4f}\")\n",
    "print(f\"✅ F1-score: {f1:.4f}\")\n",
    "print(\"\\n📊 Rapport complet :\\n\")\n",
    "print(classification_report(y_test, y_pred))\n",
    "\n",
    "# 8. Matrice de confusion\n",
    "cm = confusion_matrix(y_test, y_pred)\n",
    "sns.heatmap(cm, annot=True, fmt='d', cmap='Blues', xticklabels=[0,1], yticklabels=[0,1])\n",
    "plt.xlabel('Prédit')\n",
    "plt.ylabel('Réel')\n",
    "plt.title('Matrice de confusion')\n",
    "plt.show()"
   ]
  },
  {
   "cell_type": "code",
   "execution_count": null,
   "id": "29434799",
   "metadata": {},
   "outputs": [],
   "source": []
  },
  {
   "cell_type": "code",
   "execution_count": null,
   "id": "58735d60",
   "metadata": {},
   "outputs": [],
   "source": []
  },
  {
   "cell_type": "markdown",
   "id": "7c2227ca",
   "metadata": {},
   "source": [
    "#### Travaux"
   ]
  },
  {
   "cell_type": "code",
   "execution_count": null,
   "id": "74bc4442",
   "metadata": {},
   "outputs": [],
   "source": [
    "document_1 = \"le chat mange la souris\"\n",
    "document_2 = \"le chien regarde le canard\"\n",
    "document_3 = \"le canard regarde le chat\"\n",
    "corpus = (document_1, document_2, document_3)"
   ]
  },
  {
   "cell_type": "code",
   "execution_count": null,
   "id": "f502ed66",
   "metadata": {},
   "outputs": [],
   "source": [
    "# construction du vocabulaire\n",
    "vocabulary = []\n",
    "for d in corpus:\n",
    "    for w in d.split(\" \"):\n",
    "        if w not in vocabulary:\n",
    "            vocabulary.append(w)\n"
   ]
  },
  {
   "cell_type": "code",
   "execution_count": null,
   "id": "ace4d1f3",
   "metadata": {},
   "outputs": [
    {
     "data": {
      "text/plain": [
       "['le', 'chat', 'mange', 'la', 'souris', 'chien', 'regarde', 'canard']"
      ]
     },
     "execution_count": 162,
     "metadata": {},
     "output_type": "execute_result"
    }
   ],
   "source": [
    "vocabulary"
   ]
  },
  {
   "cell_type": "code",
   "execution_count": null,
   "id": "14d5bfba",
   "metadata": {},
   "outputs": [],
   "source": [
    "# initialisation de l'histogramme\n",
    "freq = dict()\n",
    "for v in vocabulary:\n",
    "    freq[v] = 0"
   ]
  },
  {
   "cell_type": "code",
   "execution_count": null,
   "id": "ce0cbf4d",
   "metadata": {},
   "outputs": [
    {
     "name": "stdout",
     "output_type": "stream",
     "text": [
      "{'le': 5, 'chat': 2, 'mange': 1, 'la': 1, 'souris': 1, 'chien': 1, 'regarde': 2, 'canard': 2}\n"
     ]
    },
    {
     "data": {
      "image/png": "[encoded data removed]",
      "text/plain": [
       "<Figure size 640x480 with 1 Axes>"
      ]
     },
     "metadata": {},
     "output_type": "display_data"
    }
   ],
   "source": [
    "# comptage des occurrences\n",
    "for d in corpus:\n",
    "    for w in d.split(\" \"):\n",
    "        freq[w] += 1\n",
    "print(freq)\n",
    "df = pd.DataFrame({'freq':freq.values()}, index=freq.keys())\n",
    "ax = df.plot.bar(rot=0)\n",
    "plt.show()\n"
   ]
  },
  {
   "cell_type": "code",
   "execution_count": null,
   "id": "d4388fa1",
   "metadata": {},
   "outputs": [
    {
     "name": "stdout",
     "output_type": "stream",
     "text": [
      "[[1. 1. 1. 1. 1. 0. 0. 0.]\n",
      " [2. 0. 0. 0. 0. 1. 1. 1.]\n",
      " [2. 1. 0. 0. 0. 0. 1. 1.]]\n"
     ]
    }
   ],
   "source": [
    "# calcul d'un histogramme par document\n",
    "import numpy as np\n",
    "V = len(vocabulary)\n",
    "D = len(corpus)\n",
    "tf_idf = np.zeros([D, V])\n",
    "for i, d in enumerate(corpus):\n",
    "    for w in d.split(\" \"):\n",
    "        j = vocabulary.index(w)\n",
    "        tf_idf[i,j] += 1\n",
    "        \n",
    "print(tf_idf)"
   ]
  },
  {
   "cell_type": "code",
   "execution_count": null,
   "id": "c1b55766",
   "metadata": {},
   "outputs": [
    {
     "data": {
      "text/plain": [
       "['le', 'chat', 'mange', 'la', 'souris', 'chien', 'regarde', 'canard']"
      ]
     },
     "execution_count": 166,
     "metadata": {},
     "output_type": "execute_result"
    }
   ],
   "source": [
    "vocabulary"
   ]
  },
  {
   "cell_type": "code",
   "execution_count": null,
   "id": "c504ee66",
   "metadata": {},
   "outputs": [
    {
     "data": {
      "text/plain": [
       "('le chat mange la souris',\n",
       " 'le chien regarde le canard',\n",
       " 'le canard regarde le chat')"
      ]
     },
     "execution_count": 167,
     "metadata": {},
     "output_type": "execute_result"
    }
   ],
   "source": [
    "corpus"
   ]
  },
  {
   "cell_type": "code",
   "execution_count": null,
   "id": "aefbf4d4",
   "metadata": {},
   "outputs": [
    {
     "data": {
      "text/plain": [
       "<enumerate at 0x1cd9f63eac0>"
      ]
     },
     "execution_count": 168,
     "metadata": {},
     "output_type": "execute_result"
    }
   ],
   "source": [
    "enumerate(corpus)"
   ]
  },
  {
   "cell_type": "markdown",
   "id": "0399ad46",
   "metadata": {},
   "source": [
    "##### Word2vec"
   ]
  },
  {
   "cell_type": "code",
   "execution_count": null,
   "id": "f7c87598",
   "metadata": {},
   "outputs": [],
   "source": [
    "# pip install gensim"
   ]
  },
  {
   "cell_type": "code",
   "execution_count": null,
   "id": "ca588224",
   "metadata": {},
   "outputs": [],
   "source": [
    "from gensim.models import Word2Vec"
   ]
  },
  {
   "cell_type": "code",
   "execution_count": null,
   "id": "5f1d4693",
   "metadata": {},
   "outputs": [],
   "source": [
    "# données d'entraînement tokenisation\n",
    "p_1=document_1.split(\" \")\n",
    "p_2=document_2.split(\" \")\n",
    "p_3=document_3.split(\" \")\n",
    "\n",
    "corpus=[p_1,p_2,p_3]"
   ]
  },
  {
   "cell_type": "code",
   "execution_count": null,
   "id": "b3022da1",
   "metadata": {},
   "outputs": [],
   "source": [
    "# Paramétrage de l'entraînement\n",
    "model = Word2Vec(min_count=1, vector_size=5)"
   ]
  },
  {
   "cell_type": "code",
   "execution_count": null,
   "id": "bb2db5fd",
   "metadata": {},
   "outputs": [],
   "source": [
    "# creation du dictionnaire \n",
    "model.build_vocab(corpus) "
   ]
  },
  {
   "cell_type": "code",
   "execution_count": null,
   "id": "93c68734",
   "metadata": {},
   "outputs": [
    {
     "data": {
      "text/plain": [
       "[['le', 'chat', 'mange', 'la', 'souris'],\n",
       " ['le', 'chien', 'regarde', 'le', 'canard'],\n",
       " ['le', 'canard', 'regarde', 'le', 'chat']]"
      ]
     },
     "execution_count": 174,
     "metadata": {},
     "output_type": "execute_result"
    }
   ],
   "source": [
    "corpus"
   ]
  },
  {
   "cell_type": "code",
   "execution_count": null,
   "id": "0ea0d05f",
   "metadata": {},
   "outputs": [
    {
     "data": {
      "text/plain": [
       "(7, 75)"
      ]
     },
     "execution_count": 175,
     "metadata": {},
     "output_type": "execute_result"
    }
   ],
   "source": [
    "model.train(corpus, total_examples=model.corpus_count, epochs=model.epochs)"
   ]
  },
  {
   "cell_type": "code",
   "execution_count": null,
   "id": "68294d4b",
   "metadata": {},
   "outputs": [
    {
     "ename": "SyntaxError",
     "evalue": "invalid syntax. Perhaps you forgot a comma? (1734034339.py, line 1)",
     "output_type": "error",
     "traceback": [
      "\u001b[1;36m  Cell \u001b[1;32mIn[176], line 1\u001b[1;36m\u001b[0m\n\u001b[1;33m    print(list(model.wv.index_to_key[ ]))  # Adjust the number to see more\u001b[0m\n\u001b[1;37m               ^\u001b[0m\n\u001b[1;31mSyntaxError\u001b[0m\u001b[1;31m:\u001b[0m invalid syntax. Perhaps you forgot a comma?\n"
     ]
    }
   ],
   "source": [
    "print(list(model.wv.index_to_key[ ]))  # Adjust the number to see more\n"
   ]
  },
  {
   "cell_type": "code",
   "execution_count": null,
   "id": "7b0759f1",
   "metadata": {},
   "outputs": [
    {
     "data": {
      "text/plain": [
       "array([-0.03632035,  0.0575316 ,  0.01983747, -0.1657043 , -0.18897636],\n",
       "      dtype=float32)"
      ]
     },
     "execution_count": 36,
     "metadata": {},
     "output_type": "execute_result"
    }
   ],
   "source": [
    "model.wv['chat']"
   ]
  },
  {
   "cell_type": "code",
   "execution_count": null,
   "id": "86f9de1b",
   "metadata": {},
   "outputs": [
    {
     "name": "stdout",
     "output_type": "stream",
     "text": [
      "[('canard', 0.072651706635952), ('regarde', -0.06693901866674423), ('la', -0.08407305926084518)]\n"
     ]
    }
   ],
   "source": [
    "#model.wv['souris']\n",
    "print(model.wv.most_similar(positive=['chien'] ,topn=3))\n"
   ]
  },
  {
   "cell_type": "code",
   "execution_count": null,
   "id": "0334c7ef",
   "metadata": {},
   "outputs": [],
   "source": []
  },
  {
   "cell_type": "code",
   "execution_count": null,
   "id": "c6025dbf",
   "metadata": {},
   "outputs": [],
   "source": []
  },
  {
   "cell_type": "code",
   "execution_count": null,
   "id": "39facf41",
   "metadata": {},
   "outputs": [],
   "source": []
  },
  {
   "cell_type": "code",
   "execution_count": null,
   "id": "b5fa2b76",
   "metadata": {},
   "outputs": [
    {
     "data": {
      "image/png": "[encoded data removed]",
      "text/plain": [
       "<Figure size 800x400 with 1 Axes>"
      ]
     },
     "metadata": {},
     "output_type": "display_data"
    }
   ],
   "source": [
    "# Compter les occurrences par année\n",
    "yearly_counts = df_filtré['breach_type'].value_counts().sort_index()\n",
    "\n",
    "# Créer le graphique\n",
    "plt.figure(figsize=(8, 4))\n",
    "plt.bar(yearly_counts.index, yearly_counts.values, color='skyblue')\n",
    "\n",
    "# Ajouter les étiquettes\n",
    "plt.title(\"Nombre d'incidences par brèche\")\n",
    "plt.xlabel(\"Type de brèche\")\n",
    "plt.ylabel(\"Nombre d'incidences\")\n",
    "\n",
    "plt.xticks(rotation=45)\n",
    "plt.grid(axis='y')\n",
    "plt.tight_layout()\n",
    "plt.show()"
   ]
  },
  {
   "cell_type": "code",
   "execution_count": null,
   "id": "a48ba1a0",
   "metadata": {},
   "outputs": [],
   "source": []
  },
  {
   "cell_type": "code",
   "execution_count": null,
   "id": "b098643c",
   "metadata": {},
   "outputs": [],
   "source": []
  },
  {
   "cell_type": "code",
   "execution_count": null,
   "id": "ed917952",
   "metadata": {},
   "outputs": [],
   "source": []
  },
  {
   "cell_type": "code",
   "execution_count": null,
   "id": "cdd3f64c",
   "metadata": {},
   "outputs": [],
   "source": []
  },
  {
   "cell_type": "markdown",
   "id": "291fedf9",
   "metadata": {},
   "source": [
    "### Perceptron "
   ]
  },
  {
   "cell_type": "code",
   "execution_count": null,
   "id": "4a4dfc08",
   "metadata": {},
   "outputs": [
    {
     "data": {
      "text/plain": [
       "('le chat mange la souris',\n",
       " 'le chien regarde le canard',\n",
       " 'le canard regarde le chat')"
      ]
     },
     "execution_count": 82,
     "metadata": {},
     "output_type": "execute_result"
    }
   ],
   "source": [
    "corpus"
   ]
  },
  {
   "cell_type": "code",
   "execution_count": null,
   "id": "4b89e8b6",
   "metadata": {},
   "outputs": [
    {
     "data": {
      "text/plain": [
       "['le', 'canard', 'regarde', 'le', 'chat']"
      ]
     },
     "execution_count": 85,
     "metadata": {},
     "output_type": "execute_result"
    }
   ],
   "source": [
    "d.split()"
   ]
  },
  {
   "cell_type": "code",
   "execution_count": null,
   "id": "abec1884",
   "metadata": {},
   "outputs": [
    {
     "data": {
      "text/plain": [
       "'le canard regarde le chat'"
      ]
     },
     "execution_count": 86,
     "metadata": {},
     "output_type": "execute_result"
    }
   ],
   "source": [
    "d"
   ]
  },
  {
   "cell_type": "code",
   "execution_count": null,
   "id": "db052581",
   "metadata": {},
   "outputs": [],
   "source": []
  },
  {
   "cell_type": "code",
   "execution_count": null,
   "id": "1a3c2f5c",
   "metadata": {},
   "outputs": [],
   "source": []
  },
  {
   "cell_type": "code",
   "execution_count": null,
   "id": "dbc68330",
   "metadata": {},
   "outputs": [],
   "source": []
  }
 ],
 "metadata": {
  "kernelspec": {
   "display_name": "base",
   "language": "python",
   "name": "python3"
  },
  "language_info": {
   "codemirror_mode": {
    "name": "ipython",
    "version": 3
   },
   "file_extension": ".py",
   "mimetype": "text/x-python",
   "name": "python",
   "nbconvert_exporter": "python",
   "pygments_lexer": "ipython3",
   "version": "3.12.7"
  }
 },
 "nbformat": 4,
 "nbformat_minor": 5
}
